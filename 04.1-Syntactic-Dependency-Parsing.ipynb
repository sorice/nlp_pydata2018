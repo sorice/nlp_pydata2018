{
 "metadata": {
  "kernelspec": {
   "display_name": "Python 2",
   "language": "python",
   "name": "python2"
  },
  "language_info": {
   "codemirror_mode": {
    "name": "ipython",
    "version": 2
   },
   "file_extension": ".py",
   "mimetype": "text/x-python",
   "name": "python",
   "nbconvert_exporter": "python",
   "pygments_lexer": "ipython2",
   "version": "2.7.6"
  },
  "name": "",
  "signature": "sha256:2d8c47e3a134ae83dc43463b6efccab730b7ac2c3703fb71095ea5ef8b794043"
 },
 "nbformat": 3,
 "nbformat_minor": 0,
 "worksheets": [
  {
   "cells": [
    {
     "cell_type": "code",
     "collapsed": false,
     "input": [
      "<small><i>This notebook was put together by [Abel Meneses](http://www.menesesabad.com) for PyData 2018. Source and license info is on [GitHub](https://github.com/sorice/nlp_pydata2018/).</i></small>"
     ],
     "language": "python",
     "metadata": {},
     "outputs": []
    },
    {
     "cell_type": "markdown",
     "metadata": {},
     "source": [
      "# 3 Sentence Dependency Tree Graphs"
     ]
    },
    {
     "cell_type": "code",
     "collapsed": false,
     "input": [
      "import networkx as nx\n",
      "from networkx import *\n",
      "import matplotlib as plt\n",
      "%matplotlib inline"
     ],
     "language": "python",
     "metadata": {},
     "outputs": [],
     "prompt_number": 272
    },
    {
     "cell_type": "code",
     "collapsed": false,
     "input": [
      "import nltk\n",
      "from nltk.tree import Tree\n",
      "s = '(S (NP (DT the) (NN cat)) (VP (VBD ate) (NP (DT a) (NN cookie))))'\n",
      "t = Tree.fromstring(s)\n",
      "t.pretty_print()"
     ],
     "language": "python",
     "metadata": {},
     "outputs": [
      {
       "output_type": "stream",
       "stream": "stdout",
       "text": [
        "             S                \n",
        "      _______|___              \n",
        "     |           VP           \n",
        "     |        ___|___          \n",
        "     NP      |       NP       \n",
        "  ___|___    |    ___|____     \n",
        " DT      NN VBD  DT       NN  \n",
        " |       |   |   |        |    \n",
        "the     cat ate  a      cookie\n",
        "\n"
       ]
      }
     ],
     "prompt_number": 2
    },
    {
     "cell_type": "code",
     "collapsed": false,
     "input": [
      "#To visualize the syntactic tree in tkinter uncomment the next line\n",
      "#t.draw()"
     ],
     "language": "python",
     "metadata": {},
     "outputs": [],
     "prompt_number": 3
    },
    {
     "cell_type": "code",
     "collapsed": false,
     "input": [
      "from practnlptools import tools\n",
      "sentence = 'the cat in the hat'\n",
      "annotator = tools.Annotator()\n",
      "A = annotator.getAnnotations(sentence)\n",
      "A['syntax_tree']\n"
     ],
     "language": "python",
     "metadata": {},
     "outputs": [
      {
       "ename": "TabError",
       "evalue": "inconsistent use of tabs and spaces in indentation (tools.py, line 53)",
       "output_type": "pyerr",
       "traceback": [
        "\u001b[0;36m  File \u001b[0;32m\"/usr/local/lib/python3.5/dist-packages/practnlptools/tools.py\"\u001b[0;36m, line \u001b[0;32m53\u001b[0m\n\u001b[0;31m    executable='senna-linux32'\u001b[0m\n\u001b[0m                              ^\u001b[0m\n\u001b[0;31mTabError\u001b[0m\u001b[0;31m:\u001b[0m inconsistent use of tabs and spaces in indentation\n"
       ]
      }
     ],
     "prompt_number": 1
    },
    {
     "cell_type": "code",
     "collapsed": false,
     "input": [
      "B = '(NP(NP(DT the)(NN cat))(PP(IN in)(NP(DT the)(NN hat))))'\n",
      "T = Tree.fromstring(B)\n",
      "T.pretty_print()"
     ],
     "language": "python",
     "metadata": {},
     "outputs": [
      {
       "output_type": "stream",
       "stream": "stdout",
       "text": [
        "             NP            \n",
        "      _______|___           \n",
        "     |           PP        \n",
        "     |        ___|___       \n",
        "     NP      |       NP    \n",
        "  ___|___    |    ___|___   \n",
        " DT      NN  IN  DT      NN\n",
        " |       |   |   |       |  \n",
        "the     cat  in the     hat\n",
        "\n"
       ]
      }
     ],
     "prompt_number": 5
    },
    {
     "cell_type": "markdown",
     "metadata": {},
     "source": [
      "# Syntactic Dependency with Networkx\n",
      "\n",
      "Los usuarios de Ubuntu 16.04 deben leer lo siguiente. La versi\u00f3n 1.11 de networkx disponible en diciembre de 2017 a\u00fan no pod\u00eda correr este ejemplo. La versi\u00f3n 2 de networkx ya corrige este detalle.\n",
      "This notebook was possible changing the next line in */networkx/drawing/nx_pydot.py* file:\n",
      "\n",
      "    import pydotplus\n",
      "by:\n",
      "\n",
      "    import pydot as pydotplus\n",
      "    \n",
      "Requirements:\n",
      "\n",
      "* python-pygraphviz"
     ]
    },
    {
     "cell_type": "code",
     "collapsed": false,
     "input": [
      "import networkx as nx\n",
      "import matplotlib.pyplot as plt\n",
      "from networkx.drawing.nx_pydot import write_dot\n",
      "from networkx.drawing.nx_agraph import graphviz_layout\n",
      "import os\n",
      "\n",
      "G = nx.DiGraph()\n",
      "\n",
      "G.add_node(\"ROOT\")\n",
      "\n",
      "for i in range(5):\n",
      "    G.add_node(\"Child_%i\" % i)\n",
      "    G.add_node(\"Grandchild_%i\" % i)\n",
      "    G.add_node(\"Greatgrandchild_%i\" % i)\n",
      "\n",
      "    G.add_edge(\"ROOT\", \"Child_%i\" % i)\n",
      "    G.add_edge(\"Child_%i\" % i, \"Grandchild_%i\" % i)\n",
      "    G.add_edge(\"Grandchild_%i\" % i, \"Greatgrandchild_%i\" % i)\n",
      "\n",
      "# write dot file to use with graphviz\n",
      "os.system(\"dot -Tpng imgs/4.1/test.dot > imgs/4.1/test.png\")\n",
      "write_dot(G,'imgs/4.1/test.dot')"
     ],
     "language": "python",
     "metadata": {},
     "outputs": [],
     "prompt_number": 25
    },
    {
     "cell_type": "code",
     "collapsed": false,
     "input": [
      "from IPython.display import Image\n",
      "Image('imgs/4.1/test.png')"
     ],
     "language": "python",
     "metadata": {},
     "outputs": [
      {
       "metadata": {},
       "output_type": "pyout",
       "png": "[encoded data removed]",
       "prompt_number": 26,
       "text": [
        "<IPython.core.display.Image at 0x7fcdb349b240>"
       ]
      }
     ],
     "prompt_number": 26
    },
    {
     "cell_type": "markdown",
     "metadata": {},
     "source": [
      "## Syntactic Dependency Parsing with StanfordParser"
     ]
    },
    {
     "cell_type": "code",
     "collapsed": false,
     "input": [
      "from nltk.parse.stanford import StanfordParser\n",
      "stanford_parser_dir = '/opt/stanford/stanford-parser-full-2015-04-20/'\n",
      "eng_model_path= stanford_parser_dir + 'nlp/models/lexparser/englishPCFG.ser.gz'\n",
      "my_path_to_models_jar = stanford_parser_dir  + \"stanford-parser-3.5.2-models.jar\"\n",
      "my_path_to_jar= stanford_parser_dir + 'stanford-parser.jar'\n",
      "parser=StanfordParser(model_path=eng_model_path, path_to_models_jar=my_path_to_models_jar, path_to_jar=my_path_to_jar)\n",
      "\n",
      "print(\"Resultado esperado: [Tree('jumps', [Tree('fox', ['The', 'quick', 'brown']), Tree('dog', ['over', 'the', 'lazy'])])]\")\n",
      "list(parser.raw_parse(\"The quick brown fox jumps over the lazy dog.\"))"
     ],
     "language": "python",
     "metadata": {},
     "outputs": [
      {
       "output_type": "stream",
       "stream": "stdout",
       "text": [
        "Resultado esperado: [Tree('jumps', [Tree('fox', ['The', 'quick', 'brown']), Tree('dog', ['over', 'the', 'lazy'])])]\n"
       ]
      },
      {
       "metadata": {},
       "output_type": "pyout",
       "prompt_number": 32,
       "text": [
        "[Tree('ROOT', [Tree('S', [Tree('NP', [Tree('DT', ['The']), Tree('JJ', ['quick']), Tree('JJ', ['brown']), Tree('NN', ['fox'])]), Tree('VP', [Tree('VBZ', ['jumps']), Tree('PP', [Tree('IN', ['over']), Tree('NP', [Tree('DT', ['the']), Tree('JJ', ['lazy']), Tree('NN', ['dog'])])])]), Tree('.', ['.'])])])]"
       ]
      }
     ],
     "prompt_number": 32
    },
    {
     "cell_type": "markdown",
     "metadata": {},
     "source": [
      "The StanfordParser object is different to StanfordDependencyParser, after reading the second test the next line.\n",
      "\n",
      "    print ([list(parse.triples()) for parse in parser.raw_parse(\"The quick brown fox jumps over the lazy dog.\")])"
     ]
    },
    {
     "cell_type": "code",
     "collapsed": false,
     "input": [
      "from nltk.parse.stanford import StanfordDependencyParser\n",
      "stanford_parser_dir = '/opt/stanford/stanford-parser-full-2015-04-20/'\n",
      "eng_model_path= stanford_parser_dir + 'nlp/models/lexparser/englishPCFG.ser.gz'\n",
      "my_path_to_models_jar = stanford_parser_dir  + \"stanford-parser-3.5.2-models.jar\"\n",
      "my_path_to_jar= stanford_parser_dir + 'stanford-parser.jar'\n",
      "dep_parser=StanfordDependencyParser(model_path=eng_model_path, path_to_models_jar=my_path_to_models_jar, path_to_jar=my_path_to_jar)\n",
      "print ([list(parse.triples()) for parse in dep_parser.raw_parse(\"The quick brown fox jumps over the lazy dog.\")])"
     ],
     "language": "python",
     "metadata": {},
     "outputs": [
      {
       "output_type": "stream",
       "stream": "stdout",
       "text": [
        "[[(('jumps', 'VBZ'), 'nsubj', ('fox', 'NN')), (('fox', 'NN'), 'det', ('The', 'DT')), (('fox', 'NN'), 'amod', ('quick', 'JJ')), (('fox', 'NN'), 'amod', ('brown', 'JJ')), (('jumps', 'VBZ'), 'nmod', ('dog', 'NN')), (('dog', 'NN'), 'case', ('over', 'IN')), (('dog', 'NN'), 'det', ('the', 'DT')), (('dog', 'NN'), 'amod', ('lazy', 'JJ'))]]\n"
       ]
      }
     ],
     "prompt_number": 33
    },
    {
     "cell_type": "code",
     "collapsed": false,
     "input": [
      "SYNT = dep_parser.raw_parse(\"The quick brown fox jumps over the lazy dog.\")"
     ],
     "language": "python",
     "metadata": {},
     "outputs": [],
     "prompt_number": 34
    },
    {
     "cell_type": "code",
     "collapsed": false,
     "input": [
      "with open('test/4.1/test.svg','w') as doc:\n",
      "    for parse in SYNT:\n",
      "        doc.write(parse._repr_svg_().split('\\\\n')[0])"
     ],
     "language": "python",
     "metadata": {},
     "outputs": [],
     "prompt_number": 35
    },
    {
     "cell_type": "code",
     "collapsed": false,
     "input": [
      "from IPython.display import SVG\n",
      "SVG('test/4.1/test.svg')"
     ],
     "language": "python",
     "metadata": {},
     "outputs": [
      {
       "metadata": {},
       "output_type": "pyout",
       "prompt_number": 36,
       "svg": [
        "<svg height=\"305pt\" viewBox=\"0.00 0.00 467.00 305.00\" width=\"467pt\" xmlns=\"http://www.w3.org/2000/svg\" xmlns:xlink=\"http://www.w3.org/1999/xlink\">\n",
        "<g class=\"graph\" id=\"graph0\" transform=\"scale(1 1) rotate(0) translate(4 301)\">\n",
        "<title>G</title>\n",
        "<polygon fill=\"white\" points=\"-4,4 -4,-301 463,-301 463,4 -4,4\" stroke=\"none\"/>\n",
        "<!-- 0 -->\n",
        "<g class=\"node\" id=\"node1\"><title>0</title>\n",
        "<text font-family=\"Times,serif\" font-size=\"14.00\" text-anchor=\"middle\" x=\"250.5\" y=\"-275.3\">0 (None)</text>\n",
        "</g>\n",
        "<!-- 5 -->\n",
        "<g class=\"node\" id=\"node2\"><title>5</title>\n",
        "<text font-family=\"Times,serif\" font-size=\"14.00\" text-anchor=\"middle\" x=\"250.5\" y=\"-188.3\">5 (jumps)</text>\n",
        "</g>\n",
        "<!-- 0&#45;&gt;5 -->\n",
        "<g class=\"edge\" id=\"edge1\"><title>0-&gt;5</title>\n",
        "<path d=\"M250.5,-260.799C250.5,-249.163 250.5,-233.548 250.5,-220.237\" fill=\"none\" stroke=\"black\"/>\n",
        "<polygon fill=\"black\" points=\"254,-220.175 250.5,-210.175 247,-220.175 254,-220.175\" stroke=\"black\"/>\n",
        "<text font-family=\"Times,serif\" font-size=\"14.00\" text-anchor=\"middle\" x=\"261.5\" y=\"-231.8\">root</text>\n",
        "</g>\n",
        "<!-- 4 -->\n",
        "<g class=\"node\" id=\"node6\"><title>4</title>\n",
        "<text font-family=\"Times,serif\" font-size=\"14.00\" text-anchor=\"middle\" x=\"127.5\" y=\"-101.3\">4 (fox)</text>\n",
        "</g>\n",
        "<!-- 5&#45;&gt;4 -->\n",
        "<g class=\"edge\" id=\"edge5\"><title>5-&gt;4</title>\n",
        "<path d=\"M225.609,-173.799C206.937,-160.895 181.185,-143.099 160.75,-128.978\" fill=\"none\" stroke=\"black\"/>\n",
        "<polygon fill=\"black\" points=\"162.57,-125.981 152.354,-123.175 158.591,-131.74 162.57,-125.981\" stroke=\"black\"/>\n",
        "<text font-family=\"Times,serif\" font-size=\"14.00\" text-anchor=\"middle\" x=\"211.5\" y=\"-144.8\">nsubj</text>\n",
        "</g>\n",
        "<!-- 9 -->\n",
        "<g class=\"node\" id=\"node7\"><title>9</title>\n",
        "<text font-family=\"Times,serif\" font-size=\"14.00\" text-anchor=\"middle\" x=\"316.5\" y=\"-101.3\">9 (dog)</text>\n",
        "</g>\n",
        "<!-- 5&#45;&gt;9 -->\n",
        "<g class=\"edge\" id=\"edge6\"><title>5-&gt;9</title>\n",
        "<path d=\"M263.856,-173.799C273.339,-161.587 286.224,-144.992 296.873,-131.278\" fill=\"none\" stroke=\"black\"/>\n",
        "<polygon fill=\"black\" points=\"299.795,-133.221 303.164,-123.175 294.266,-128.927 299.795,-133.221\" stroke=\"black\"/>\n",
        "<text font-family=\"Times,serif\" font-size=\"14.00\" text-anchor=\"middle\" x=\"303.5\" y=\"-144.8\">nmod</text>\n",
        "</g>\n",
        "<!-- 1 -->\n",
        "<g class=\"node\" id=\"node3\"><title>1</title>\n",
        "<text font-family=\"Times,serif\" font-size=\"14.00\" text-anchor=\"middle\" x=\"28.5\" y=\"-14.3\">1 (The)</text>\n",
        "</g>\n",
        "<!-- 2 -->\n",
        "<g class=\"node\" id=\"node4\"><title>2</title>\n",
        "<text font-family=\"Times,serif\" font-size=\"14.00\" text-anchor=\"middle\" x=\"108.5\" y=\"-14.3\">2 (quick)</text>\n",
        "</g>\n",
        "<!-- 3 -->\n",
        "<g class=\"node\" id=\"node5\"><title>3</title>\n",
        "<text font-family=\"Times,serif\" font-size=\"14.00\" text-anchor=\"middle\" x=\"195.5\" y=\"-14.3\">3 (brown)</text>\n",
        "</g>\n",
        "<!-- 4&#45;&gt;1 -->\n",
        "<g class=\"edge\" id=\"edge2\"><title>4-&gt;1</title>\n",
        "<path d=\"M107.466,-86.799C92.7052,-74.1257 72.4484,-56.7335 56.1474,-42.7377\" fill=\"none\" stroke=\"black\"/>\n",
        "<polygon fill=\"black\" points=\"58.3715,-40.0342 48.5043,-36.1754 53.8115,-45.3452 58.3715,-40.0342\" stroke=\"black\"/>\n",
        "<text font-family=\"Times,serif\" font-size=\"14.00\" text-anchor=\"middle\" x=\"93\" y=\"-57.8\">det</text>\n",
        "</g>\n",
        "<!-- 4&#45;&gt;2 -->\n",
        "<g class=\"edge\" id=\"edge3\"><title>4-&gt;2</title>\n",
        "<path d=\"M123.655,-86.799C121.054,-75.1626 117.564,-59.5479 114.588,-46.2368\" fill=\"none\" stroke=\"black\"/>\n",
        "<polygon fill=\"black\" points=\"117.936,-45.1711 112.339,-36.1754 111.105,-46.6981 117.936,-45.1711\" stroke=\"black\"/>\n",
        "<text font-family=\"Times,serif\" font-size=\"14.00\" text-anchor=\"middle\" x=\"135\" y=\"-57.8\">amod</text>\n",
        "</g>\n",
        "<!-- 4&#45;&gt;3 -->\n",
        "<g class=\"edge\" id=\"edge4\"><title>4-&gt;3</title>\n",
        "<path d=\"M141.261,-86.799C151.031,-74.5865 164.306,-57.9921 175.278,-44.2776\" fill=\"none\" stroke=\"black\"/>\n",
        "<polygon fill=\"black\" points=\"178.246,-46.1706 181.76,-36.1754 172.78,-41.7977 178.246,-46.1706\" stroke=\"black\"/>\n",
        "<text font-family=\"Times,serif\" font-size=\"14.00\" text-anchor=\"middle\" x=\"182\" y=\"-57.8\">amod</text>\n",
        "</g>\n",
        "<!-- 6 -->\n",
        "<g class=\"node\" id=\"node8\"><title>6</title>\n",
        "<text font-family=\"Times,serif\" font-size=\"14.00\" text-anchor=\"middle\" x=\"279.5\" y=\"-14.3\">6 (over)</text>\n",
        "</g>\n",
        "<!-- 9&#45;&gt;6 -->\n",
        "<g class=\"edge\" id=\"edge7\"><title>9-&gt;6</title>\n",
        "<path d=\"M309.012,-86.799C303.847,-74.9322 296.88,-58.9279 291.013,-45.4488\" fill=\"none\" stroke=\"black\"/>\n",
        "<polygon fill=\"black\" points=\"294.177,-43.9475 286.976,-36.1754 287.758,-46.7414 294.177,-43.9475\" stroke=\"black\"/>\n",
        "<text font-family=\"Times,serif\" font-size=\"14.00\" text-anchor=\"middle\" x=\"312.5\" y=\"-57.8\">case</text>\n",
        "</g>\n",
        "<!-- 7 -->\n",
        "<g class=\"node\" id=\"node9\"><title>7</title>\n",
        "<text font-family=\"Times,serif\" font-size=\"14.00\" text-anchor=\"middle\" x=\"354.5\" y=\"-14.3\">7 (the)</text>\n",
        "</g>\n",
        "<!-- 9&#45;&gt;7 -->\n",
        "<g class=\"edge\" id=\"edge8\"><title>9-&gt;7</title>\n",
        "<path d=\"M324.19,-86.799C329.495,-74.9322 336.65,-58.9279 342.676,-45.4488\" fill=\"none\" stroke=\"black\"/>\n",
        "<polygon fill=\"black\" points=\"345.935,-46.7332 346.822,-36.1754 339.545,-43.8762 345.935,-46.7332\" stroke=\"black\"/>\n",
        "<text font-family=\"Times,serif\" font-size=\"14.00\" text-anchor=\"middle\" x=\"347\" y=\"-57.8\">det</text>\n",
        "</g>\n",
        "<!-- 8 -->\n",
        "<g class=\"node\" id=\"node10\"><title>8</title>\n",
        "<text font-family=\"Times,serif\" font-size=\"14.00\" text-anchor=\"middle\" x=\"429.5\" y=\"-14.3\">8 (lazy)</text>\n",
        "</g>\n",
        "<!-- 9&#45;&gt;8 -->\n",
        "<g class=\"edge\" id=\"edge9\"><title>9-&gt;8</title>\n",
        "<path d=\"M339.367,-86.799C356.368,-74.0105 379.758,-56.4169 398.449,-42.3569\" fill=\"none\" stroke=\"black\"/>\n",
        "<polygon fill=\"black\" points=\"400.779,-44.9838 406.667,-36.1754 396.571,-39.3898 400.779,-44.9838\" stroke=\"black\"/>\n",
        "<text font-family=\"Times,serif\" font-size=\"14.00\" text-anchor=\"middle\" x=\"396\" y=\"-57.8\">amod</text>\n",
        "</g>\n",
        "</g>\n",
        "</svg>"
       ],
       "text": [
        "<IPython.core.display.SVG at 0x7f5af71afa58>"
       ]
      }
     ],
     "prompt_number": 36
    },
    {
     "cell_type": "markdown",
     "metadata": {},
     "source": [
      "# S-Ngrams Examples"
     ]
    },
    {
     "cell_type": "code",
     "collapsed": false,
     "input": [
      "SYNT = dep_parser.raw_parse(\"I can even now remember the hour from which I dedicated myself to this great enterprise\")\n",
      "\n",
      "with open('test/4.1/test.svg','w') as doc:\n",
      "    for parse in SYNT:\n",
      "        doc.write(parse._repr_svg_().split('\\\\n')[0])\n",
      "\n",
      "SVG('test/4.1/test.svg')"
     ],
     "language": "python",
     "metadata": {},
     "outputs": [
      {
       "metadata": {},
       "output_type": "pyout",
       "prompt_number": 46,
       "svg": [
        "<svg height=\"392pt\" viewBox=\"0.00 0.00 595.00 392.00\" width=\"595pt\" xmlns=\"http://www.w3.org/2000/svg\" xmlns:xlink=\"http://www.w3.org/1999/xlink\">\n",
        "<g class=\"graph\" id=\"graph0\" transform=\"scale(1 1) rotate(0) translate(4 388)\">\n",
        "<title>G</title>\n",
        "<polygon fill=\"white\" points=\"-4,4 -4,-388 591,-388 591,4 -4,4\" stroke=\"none\"/>\n",
        "<!-- 0 -->\n",
        "<g class=\"node\" id=\"node1\"><title>0</title>\n",
        "<text font-family=\"Times,serif\" font-size=\"14.00\" text-anchor=\"middle\" x=\"181\" y=\"-362.3\">0 (None)</text>\n",
        "</g>\n",
        "<!-- 5 -->\n",
        "<g class=\"node\" id=\"node2\"><title>5</title>\n",
        "<text font-family=\"Times,serif\" font-size=\"14.00\" text-anchor=\"middle\" x=\"181\" y=\"-275.3\">5 (remember)</text>\n",
        "</g>\n",
        "<!-- 0&#45;&gt;5 -->\n",
        "<g class=\"edge\" id=\"edge1\"><title>0-&gt;5</title>\n",
        "<path d=\"M181,-347.799C181,-336.163 181,-320.548 181,-307.237\" fill=\"none\" stroke=\"black\"/>\n",
        "<polygon fill=\"black\" points=\"184.5,-307.175 181,-297.175 177.5,-307.175 184.5,-307.175\" stroke=\"black\"/>\n",
        "<text font-family=\"Times,serif\" font-size=\"14.00\" text-anchor=\"middle\" x=\"192\" y=\"-318.8\">root</text>\n",
        "</g>\n",
        "<!-- 1 -->\n",
        "<g class=\"node\" id=\"node3\"><title>1</title>\n",
        "<text font-family=\"Times,serif\" font-size=\"14.00\" text-anchor=\"middle\" x=\"33\" y=\"-188.3\">1 (I)</text>\n",
        "</g>\n",
        "<!-- 5&#45;&gt;1 -->\n",
        "<g class=\"edge\" id=\"edge3\"><title>5-&gt;1</title>\n",
        "<path d=\"M141.071,-260.842C129.556,-255.5 117.107,-249.339 106,-243 91.9078,-234.958 77.0172,-225.04 64.3859,-216.164\" fill=\"none\" stroke=\"black\"/>\n",
        "<polygon fill=\"black\" points=\"66.2158,-213.17 56.0398,-210.221 62.1555,-218.872 66.2158,-213.17\" stroke=\"black\"/>\n",
        "<text font-family=\"Times,serif\" font-size=\"14.00\" text-anchor=\"middle\" x=\"121\" y=\"-231.8\">nsubj</text>\n",
        "</g>\n",
        "<!-- 2 -->\n",
        "<g class=\"node\" id=\"node4\"><title>2</title>\n",
        "<text font-family=\"Times,serif\" font-size=\"14.00\" text-anchor=\"middle\" x=\"106\" y=\"-188.3\">2 (can)</text>\n",
        "</g>\n",
        "<!-- 5&#45;&gt;2 -->\n",
        "<g class=\"edge\" id=\"edge6\"><title>5-&gt;2</title>\n",
        "<path d=\"M165.823,-260.799C154.945,-248.471 140.128,-231.679 127.962,-217.89\" fill=\"none\" stroke=\"black\"/>\n",
        "<polygon fill=\"black\" points=\"130.395,-215.358 121.155,-210.175 125.147,-219.99 130.395,-215.358\" stroke=\"black\"/>\n",
        "<text font-family=\"Times,serif\" font-size=\"14.00\" text-anchor=\"middle\" x=\"158\" y=\"-231.8\">aux</text>\n",
        "</g>\n",
        "<!-- 4 -->\n",
        "<g class=\"node\" id=\"node6\"><title>4</title>\n",
        "<text font-family=\"Times,serif\" font-size=\"14.00\" text-anchor=\"middle\" x=\"181\" y=\"-188.3\">4 (now)</text>\n",
        "</g>\n",
        "<!-- 5&#45;&gt;4 -->\n",
        "<g class=\"edge\" id=\"edge7\"><title>5-&gt;4</title>\n",
        "<path d=\"M181,-260.799C181,-249.163 181,-233.548 181,-220.237\" fill=\"none\" stroke=\"black\"/>\n",
        "<polygon fill=\"black\" points=\"184.5,-220.175 181,-210.175 177.5,-220.175 184.5,-220.175\" stroke=\"black\"/>\n",
        "<text font-family=\"Times,serif\" font-size=\"14.00\" text-anchor=\"middle\" x=\"203.5\" y=\"-231.8\">advmod</text>\n",
        "</g>\n",
        "<!-- 11 -->\n",
        "<g class=\"node\" id=\"node7\"><title>11</title>\n",
        "<text font-family=\"Times,serif\" font-size=\"14.00\" text-anchor=\"middle\" x=\"276\" y=\"-188.3\">11 (dedicated)</text>\n",
        "</g>\n",
        "<!-- 5&#45;&gt;11 -->\n",
        "<g class=\"edge\" id=\"edge4\"><title>5-&gt;11</title>\n",
        "<path d=\"M206.942,-260.974C214.618,-255.542 222.871,-249.299 230,-243 238.708,-235.306 247.526,-226.129 255.08,-217.75\" fill=\"none\" stroke=\"black\"/>\n",
        "<polygon fill=\"black\" points=\"257.896,-219.849 261.89,-210.036 252.648,-215.216 257.896,-219.849\" stroke=\"black\"/>\n",
        "<text font-family=\"Times,serif\" font-size=\"14.00\" text-anchor=\"middle\" x=\"260\" y=\"-231.8\">advcl</text>\n",
        "</g>\n",
        "<!-- 7 -->\n",
        "<g class=\"node\" id=\"node8\"><title>7</title>\n",
        "<text font-family=\"Times,serif\" font-size=\"14.00\" text-anchor=\"middle\" x=\"499\" y=\"-188.3\">7 (hour)</text>\n",
        "</g>\n",
        "<!-- 5&#45;&gt;7 -->\n",
        "<g class=\"edge\" id=\"edge5\"><title>5-&gt;7</title>\n",
        "<path d=\"M227.24,-265.64C289.444,-249.013 399.088,-219.706 458.31,-203.876\" fill=\"none\" stroke=\"black\"/>\n",
        "<polygon fill=\"black\" points=\"459.307,-207.233 468.064,-201.269 457.499,-200.47 459.307,-207.233\" stroke=\"black\"/>\n",
        "<text font-family=\"Times,serif\" font-size=\"14.00\" text-anchor=\"middle\" x=\"372.5\" y=\"-231.8\">dobj</text>\n",
        "</g>\n",
        "<!-- 3 -->\n",
        "<g class=\"node\" id=\"node5\"><title>3</title>\n",
        "<text font-family=\"Times,serif\" font-size=\"14.00\" text-anchor=\"middle\" x=\"31\" y=\"-101.3\">3 (even)</text>\n",
        "</g>\n",
        "<!-- 4&#45;&gt;3 -->\n",
        "<g class=\"edge\" id=\"edge2\"><title>4-&gt;3</title>\n",
        "<path d=\"M151.453,-177.292C148.299,-176.079 145.107,-174.952 142,-174 100.076,-161.157 77.361,-185.586 45,-156 38.5674,-150.119 34.9967,-141.548 33.0438,-133.158\" fill=\"none\" stroke=\"black\"/>\n",
        "<polygon fill=\"black\" points=\"36.4812,-132.492 31.3803,-123.206 29.577,-133.647 36.4812,-132.492\" stroke=\"black\"/>\n",
        "<text font-family=\"Times,serif\" font-size=\"14.00\" text-anchor=\"middle\" x=\"67.5\" y=\"-144.8\">advmod</text>\n",
        "</g>\n",
        "<!-- 8 -->\n",
        "<g class=\"node\" id=\"node10\"><title>8</title>\n",
        "<text font-family=\"Times,serif\" font-size=\"14.00\" text-anchor=\"middle\" x=\"112\" y=\"-101.3\">8 (from)</text>\n",
        "</g>\n",
        "<!-- 11&#45;&gt;8 -->\n",
        "<g class=\"edge\" id=\"edge10\"><title>11-&gt;8</title>\n",
        "<path d=\"M236.484,-173.906C224.344,-168.423 211.019,-162.168 199,-156 182.286,-147.423 164.216,-137.2 148.898,-128.24\" fill=\"none\" stroke=\"black\"/>\n",
        "<polygon fill=\"black\" points=\"150.621,-125.192 140.228,-123.132 147.067,-131.223 150.621,-125.192\" stroke=\"black\"/>\n",
        "<text font-family=\"Times,serif\" font-size=\"14.00\" text-anchor=\"middle\" x=\"213.5\" y=\"-144.8\">mark</text>\n",
        "</g>\n",
        "<!-- 9 -->\n",
        "<g class=\"node\" id=\"node11\"><title>9</title>\n",
        "<text font-family=\"Times,serif\" font-size=\"14.00\" text-anchor=\"middle\" x=\"196\" y=\"-101.3\">9 (which)</text>\n",
        "</g>\n",
        "<!-- 11&#45;&gt;9 -->\n",
        "<g class=\"edge\" id=\"edge11\"><title>11-&gt;9</title>\n",
        "<path d=\"M259.811,-173.799C248.1,-161.356 232.108,-144.364 219.063,-130.504\" fill=\"none\" stroke=\"black\"/>\n",
        "<polygon fill=\"black\" points=\"221.568,-128.059 212.165,-123.175 216.47,-132.856 221.568,-128.059\" stroke=\"black\"/>\n",
        "<text font-family=\"Times,serif\" font-size=\"14.00\" text-anchor=\"middle\" x=\"253.5\" y=\"-144.8\">dobj</text>\n",
        "</g>\n",
        "<!-- 10 -->\n",
        "<g class=\"node\" id=\"node12\"><title>10</title>\n",
        "<text font-family=\"Times,serif\" font-size=\"14.00\" text-anchor=\"middle\" x=\"276\" y=\"-101.3\">10 (I)</text>\n",
        "</g>\n",
        "<!-- 11&#45;&gt;10 -->\n",
        "<g class=\"edge\" id=\"edge9\"><title>11-&gt;10</title>\n",
        "<path d=\"M276,-173.799C276,-162.163 276,-146.548 276,-133.237\" fill=\"none\" stroke=\"black\"/>\n",
        "<polygon fill=\"black\" points=\"279.5,-133.175 276,-123.175 272.5,-133.175 279.5,-133.175\" stroke=\"black\"/>\n",
        "<text font-family=\"Times,serif\" font-size=\"14.00\" text-anchor=\"middle\" x=\"291\" y=\"-144.8\">nsubj</text>\n",
        "</g>\n",
        "<!-- 12 -->\n",
        "<g class=\"node\" id=\"node13\"><title>12</title>\n",
        "<text font-family=\"Times,serif\" font-size=\"14.00\" text-anchor=\"middle\" x=\"361\" y=\"-101.3\">12 (myself)</text>\n",
        "</g>\n",
        "<!-- 11&#45;&gt;12 -->\n",
        "<g class=\"edge\" id=\"edge12\"><title>11-&gt;12</title>\n",
        "<path d=\"M293.201,-173.799C305.644,-161.356 322.636,-144.364 336.496,-130.504\" fill=\"none\" stroke=\"black\"/>\n",
        "<polygon fill=\"black\" points=\"339.228,-132.721 343.825,-123.175 334.279,-127.772 339.228,-132.721\" stroke=\"black\"/>\n",
        "<text font-family=\"Times,serif\" font-size=\"14.00\" text-anchor=\"middle\" x=\"336.5\" y=\"-144.8\">dobj</text>\n",
        "</g>\n",
        "<!-- 16 -->\n",
        "<g class=\"node\" id=\"node14\"><title>16</title>\n",
        "<text font-family=\"Times,serif\" font-size=\"14.00\" text-anchor=\"middle\" x=\"467\" y=\"-101.3\">16 (enterprise)</text>\n",
        "</g>\n",
        "<!-- 11&#45;&gt;16 -->\n",
        "<g class=\"edge\" id=\"edge13\"><title>11-&gt;16</title>\n",
        "<path d=\"M314.652,-173.799C344.911,-160.333 387.143,-141.538 419.47,-127.152\" fill=\"none\" stroke=\"black\"/>\n",
        "<polygon fill=\"black\" points=\"421.019,-130.294 428.732,-123.03 418.173,-123.898 421.019,-130.294\" stroke=\"black\"/>\n",
        "<text font-family=\"Times,serif\" font-size=\"14.00\" text-anchor=\"middle\" x=\"399\" y=\"-144.8\">nmod</text>\n",
        "</g>\n",
        "<!-- 6 -->\n",
        "<g class=\"node\" id=\"node9\"><title>6</title>\n",
        "<text font-family=\"Times,serif\" font-size=\"14.00\" text-anchor=\"middle\" x=\"560\" y=\"-101.3\">6 (the)</text>\n",
        "</g>\n",
        "<!-- 7&#45;&gt;6 -->\n",
        "<g class=\"edge\" id=\"edge8\"><title>7-&gt;6</title>\n",
        "<path d=\"M511.344,-173.799C520.026,-161.702 531.793,-145.305 541.581,-131.667\" fill=\"none\" stroke=\"black\"/>\n",
        "<polygon fill=\"black\" points=\"544.687,-133.341 547.674,-123.175 539,-129.259 544.687,-133.341\" stroke=\"black\"/>\n",
        "<text font-family=\"Times,serif\" font-size=\"14.00\" text-anchor=\"middle\" x=\"541.5\" y=\"-144.8\">det</text>\n",
        "</g>\n",
        "<!-- 13 -->\n",
        "<g class=\"node\" id=\"node15\"><title>13</title>\n",
        "<text font-family=\"Times,serif\" font-size=\"14.00\" text-anchor=\"middle\" x=\"391\" y=\"-14.3\">13 (to)</text>\n",
        "</g>\n",
        "<!-- 16&#45;&gt;13 -->\n",
        "<g class=\"edge\" id=\"edge14\"><title>16-&gt;13</title>\n",
        "<path d=\"M451.62,-86.799C440.598,-74.4713 425.583,-57.6787 413.255,-43.8902\" fill=\"none\" stroke=\"black\"/>\n",
        "<polygon fill=\"black\" points=\"415.631,-41.2973 406.357,-36.1754 410.413,-45.9631 415.631,-41.2973\" stroke=\"black\"/>\n",
        "<text font-family=\"Times,serif\" font-size=\"14.00\" text-anchor=\"middle\" x=\"446\" y=\"-57.8\">case</text>\n",
        "</g>\n",
        "<!-- 14 -->\n",
        "<g class=\"node\" id=\"node16\"><title>14</title>\n",
        "<text font-family=\"Times,serif\" font-size=\"14.00\" text-anchor=\"middle\" x=\"467\" y=\"-14.3\">14 (this)</text>\n",
        "</g>\n",
        "<!-- 16&#45;&gt;14 -->\n",
        "<g class=\"edge\" id=\"edge15\"><title>16-&gt;14</title>\n",
        "<path d=\"M467,-86.799C467,-75.1626 467,-59.5479 467,-46.2368\" fill=\"none\" stroke=\"black\"/>\n",
        "<polygon fill=\"black\" points=\"470.5,-46.1754 467,-36.1754 463.5,-46.1755 470.5,-46.1754\" stroke=\"black\"/>\n",
        "<text font-family=\"Times,serif\" font-size=\"14.00\" text-anchor=\"middle\" x=\"475.5\" y=\"-57.8\">det</text>\n",
        "</g>\n",
        "<!-- 15 -->\n",
        "<g class=\"node\" id=\"node17\"><title>15</title>\n",
        "<text font-family=\"Times,serif\" font-size=\"14.00\" text-anchor=\"middle\" x=\"551\" y=\"-14.3\">15 (great)</text>\n",
        "</g>\n",
        "<!-- 16&#45;&gt;15 -->\n",
        "<g class=\"edge\" id=\"edge16\"><title>16-&gt;15</title>\n",
        "<path d=\"M483.999,-86.799C496.295,-74.3561 513.087,-57.3644 526.784,-43.5044\" fill=\"none\" stroke=\"black\"/>\n",
        "<polygon fill=\"black\" points=\"529.487,-45.7484 534.027,-36.1754 524.508,-40.8281 529.487,-45.7484\" stroke=\"black\"/>\n",
        "<text font-family=\"Times,serif\" font-size=\"14.00\" text-anchor=\"middle\" x=\"529.5\" y=\"-57.8\">amod</text>\n",
        "</g>\n",
        "</g>\n",
        "</svg>"
       ],
       "text": [
        "<IPython.core.display.SVG at 0x7f5af71279b0>"
       ]
      }
     ],
     "prompt_number": 46
    },
    {
     "cell_type": "markdown",
     "metadata": {},
     "source": [
      "## Syntactic Bigrams"
     ]
    },
    {
     "cell_type": "code",
     "collapsed": false,
     "input": [
      "SYNT = [list(parse.triples()) for parse in dep_parser.raw_parse(\"I can even now remember the hour from which I \\\n",
      "                                                                    dedicated myself to this great enterprise\")]"
     ],
     "language": "python",
     "metadata": {},
     "outputs": [],
     "prompt_number": 374
    },
    {
     "cell_type": "code",
     "collapsed": false,
     "input": [
      "print(SYNT)"
     ],
     "language": "python",
     "metadata": {},
     "outputs": [
      {
       "output_type": "stream",
       "stream": "stdout",
       "text": [
        "[[(('remember', 'VB'), 'nsubj', ('I', 'PRP')), (('remember', 'VB'), 'aux', ('can', 'MD')), (('remember', 'VB'), 'advmod', ('now', 'RB')), (('now', 'RB'), 'advmod', ('even', 'RB')), (('remember', 'VB'), 'dobj', ('hour', 'NN')), (('hour', 'NN'), 'det', ('the', 'DT')), (('remember', 'VB'), 'advcl', ('dedicated', 'VBD')), (('dedicated', 'VBD'), 'mark', ('from', 'IN')), (('dedicated', 'VBD'), 'dobj', ('which', 'WDT')), (('dedicated', 'VBD'), 'nsubj', ('I', 'PRP')), (('dedicated', 'VBD'), 'dobj', ('myself', 'PRP')), (('dedicated', 'VBD'), 'nmod', ('enterprise', 'NN')), (('enterprise', 'NN'), 'case', ('to', 'TO')), (('enterprise', 'NN'), 'det', ('this', 'DT')), (('enterprise', 'NN'), 'amod', ('great', 'JJ'))]]\n"
       ]
      }
     ],
     "prompt_number": 375
    },
    {
     "cell_type": "code",
     "collapsed": false,
     "input": [
      "for triplet in SYNT[0]:\n",
      "    print(triplet)"
     ],
     "language": "python",
     "metadata": {},
     "outputs": [
      {
       "output_type": "stream",
       "stream": "stdout",
       "text": [
        "(('remember', 'VB'), 'nsubj', ('I', 'PRP'))\n",
        "(('remember', 'VB'), 'aux', ('can', 'MD'))\n",
        "(('remember', 'VB'), 'advmod', ('now', 'RB'))\n",
        "(('now', 'RB'), 'advmod', ('even', 'RB'))\n",
        "(('remember', 'VB'), 'dobj', ('hour', 'NN'))\n",
        "(('hour', 'NN'), 'det', ('the', 'DT'))\n",
        "(('remember', 'VB'), 'advcl', ('dedicated', 'VBD'))\n",
        "(('dedicated', 'VBD'), 'mark', ('from', 'IN'))\n",
        "(('dedicated', 'VBD'), 'dobj', ('which', 'WDT'))\n",
        "(('dedicated', 'VBD'), 'nsubj', ('I', 'PRP'))\n",
        "(('dedicated', 'VBD'), 'dobj', ('myself', 'PRP'))\n",
        "(('dedicated', 'VBD'), 'nmod', ('enterprise', 'NN'))\n",
        "(('enterprise', 'NN'), 'case', ('to', 'TO'))\n",
        "(('enterprise', 'NN'), 'det', ('this', 'DT'))\n",
        "(('enterprise', 'NN'), 'amod', ('great', 'JJ'))\n"
       ]
      }
     ],
     "prompt_number": 376
    },
    {
     "cell_type": "code",
     "collapsed": false,
     "input": [
      "#result with stopwords, taken from Sidorov2012\n",
      "result = [('remember', 'now'), ('now','even'), ('remember', 'hour'), ('remember', 'from'), ('hour','the'),\n",
      "          ('hour','from'), ('dedicated','wich'), ('dedicated','I'), ('from','dedicated'), ('dedicated','myself'),\n",
      "          ('dedicated','to'), ('to','enterprise'), ('enterprise','this'), ('enterprise','great')]\n",
      "s1 = set(result)\n",
      "s_ngram = []\n",
      "for triplet in SYNT[0]:\n",
      "    s_ngram.append((triplet[0][0],triplet[2][0])) \n",
      "s2 = set(s_ngram)\n",
      "print(s2)\n",
      "print(s1.difference(s2))\n",
      "s_ngram1 = s_ngram.copy()"
     ],
     "language": "python",
     "metadata": {},
     "outputs": [
      {
       "output_type": "stream",
       "stream": "stdout",
       "text": [
        "{('dedicated', 'which'), ('dedicated', 'I'), ('enterprise', 'to'), ('now', 'even'), ('enterprise', 'this'), ('remember', 'now'), ('remember', 'I'), ('hour', 'the'), ('remember', 'hour'), ('remember', 'dedicated'), ('dedicated', 'from'), ('dedicated', 'myself'), ('dedicated', 'enterprise'), ('remember', 'can'), ('enterprise', 'great')}\n",
        "{('remember', 'from'), ('hour', 'from'), ('to', 'enterprise'), ('dedicated', 'to'), ('dedicated', 'wich'), ('from', 'dedicated')}\n"
       ]
      }
     ],
     "prompt_number": 377
    },
    {
     "cell_type": "markdown",
     "metadata": {},
     "source": [
      "## Dealing with repeated bigrams"
     ]
    },
    {
     "cell_type": "code",
     "collapsed": false,
     "input": [
      "SYNTej = [list(parse.triples()) for parse in dep_parser.raw_parse(\"Is the time to change the time to grow up ?\")]\n",
      "s_ngram_ej = []\n",
      "for triplet in SYNTej[0]:\n",
      "    s_ngram_ej.append((triplet[0][0],triplet[2][0])) \n",
      "s_ngram_ej"
     ],
     "language": "python",
     "metadata": {},
     "outputs": [
      {
       "metadata": {},
       "output_type": "pyout",
       "prompt_number": 265,
       "text": [
        "[('time', 'Is'),\n",
        " ('time', 'the'),\n",
        " ('time', 'change'),\n",
        " ('change', 'to'),\n",
        " ('change', 'time'),\n",
        " ('time', 'the'),\n",
        " ('time', 'grow'),\n",
        " ('grow', 'to'),\n",
        " ('grow', 'up')]"
       ]
      }
     ],
     "prompt_number": 265
    },
    {
     "cell_type": "markdown",
     "metadata": {},
     "source": [
      "*Note:* The example taken from *Syntactic N-grams as Machine Learning Features for Natural Language Processing* ([Sidorov2012](#Sidorov2012)) was made with a different model from the one used in this notebook (April 2015). Then, the results are different.\n",
      "\n",
      "## Syntactic Ngrams\n",
      "**A proposal for Syntactic Bigrams generalization**\n",
      "\n",
      "During the experimentation we test parse.tree() structure, but this format is worst to get nodes and its parents. Specially the root node (*remember*) is not keeped. Run the next code cell to see the problem."
     ]
    },
    {
     "cell_type": "code",
     "collapsed": false,
     "input": [
      "SYNT2 = [list(parse.tree()) for parse in dep_parser.raw_parse(\"I can even now remember the hour from which I \\\n",
      "                                                                    dedicated myself to this great enterprise\")]\n",
      "print(SYNT2)"
     ],
     "language": "python",
     "metadata": {},
     "outputs": [
      {
       "output_type": "stream",
       "stream": "stdout",
       "text": [
        "[['I', 'can', Tree('now', ['even']), Tree('hour', ['the']), Tree('dedicated', ['from', 'which', 'I', 'myself', Tree('enterprise', ['to', 'this', 'great'])])]]\n"
       ]
      }
     ],
     "prompt_number": 317
    },
    {
     "cell_type": "markdown",
     "metadata": {},
     "source": [
      "Following this clue, triplets are better to get a generalization because they keep the root node and the head and foot nodes.\n",
      "The experiment showed that with the proposed algorithm is necessary to count the arcs arriving to every node, then a backward count could be donde without dimension errors."
     ]
    },
    {
     "cell_type": "code",
     "collapsed": false,
     "input": [
      "SYNT = [list(parse.triples()) for parse in dep_parser.raw_parse(\"I can even now remember the hour from which I \\\n",
      "                                                                    dedicated myself to this great enterprise\")]\n",
      "s_ngram = []\n",
      "for triplet in SYNT[0]:\n",
      "    s_ngram.append((triplet[0][0],triplet[2][0])) \n",
      "s_ngram1 = s_ngram.copy()\n",
      "for element in s_ngram:\n",
      "    print(element)"
     ],
     "language": "python",
     "metadata": {},
     "outputs": [
      {
       "output_type": "stream",
       "stream": "stdout",
       "text": [
        "('remember', 'I')\n",
        "('remember', 'can')\n",
        "('remember', 'now')\n",
        "('now', 'even')\n",
        "('remember', 'hour')\n",
        "('hour', 'the')\n",
        "('remember', 'dedicated')\n",
        "('dedicated', 'from')\n",
        "('dedicated', 'which')\n",
        "('dedicated', 'I')\n",
        "('dedicated', 'myself')\n",
        "('dedicated', 'enterprise')\n",
        "('enterprise', 'to')\n",
        "('enterprise', 'this')\n",
        "('enterprise', 'great')\n"
       ]
      }
     ],
     "prompt_number": 380
    },
    {
     "cell_type": "code",
     "collapsed": false,
     "input": [
      "from collections import defaultdict\n",
      "s_ngram = s_ngram1.copy()\n",
      "\n",
      "dict2 = defaultdict(int)\n",
      "ROOT = s_ngram[0][0]\n",
      "for i,e in enumerate(s_ngram):\n",
      "    dict2[e[1]]+=1\n",
      "    dict2[e[0]]+=dict2[e[1]]\n",
      "list2 = sorted(zip(dict2.values(),dict2.keys()))\n",
      "print(list2)"
     ],
     "language": "python",
     "metadata": {},
     "outputs": [
      {
       "output_type": "stream",
       "stream": "stdout",
       "text": [
        "[(1, 'can'), (1, 'even'), (1, 'from'), (1, 'great'), (1, 'myself'), (1, 'the'), (1, 'this'), (1, 'to'), (1, 'which'), (2, 'I'), (2, 'hour'), (2, 'now'), (4, 'enterprise'), (5, 'remember'), (7, 'dedicated')]\n"
       ]
      }
     ],
     "prompt_number": 378
    },
    {
     "cell_type": "markdown",
     "metadata": {},
     "source": [
      "This version is useless, because in the generalization dedicated must be count 7 and remember 11. This was only possible counting leaves. "
     ]
    },
    {
     "cell_type": "code",
     "collapsed": false,
     "input": [
      "SYNT3 = [parse.tree() for parse in dep_parser.raw_parse(\"I can even now remember the hour from which I \\\n",
      "                                                                    dedicated myself to this great enterprise\")]\n",
      "print(SYNT3)\n",
      "print(SYNT3[0])\n",
      "print('---------')\n",
      "for word in SYNT3:\n",
      "    print(list(word), type(word))\n",
      "print('=========')\n",
      "componente = {}\n",
      "for word in enumerate(SYNT3):\n",
      "    componente[0] = word"
     ],
     "language": "python",
     "metadata": {},
     "outputs": [
      {
       "output_type": "stream",
       "stream": "stdout",
       "text": [
        "[Tree('remember', ['I', 'can', Tree('now', ['even']), Tree('hour', ['the']), Tree('dedicated', ['from', 'which', 'I', 'myself', Tree('enterprise', ['to', 'this', 'great'])])])]\n",
        "(remember\n",
        "  I\n",
        "  can\n",
        "  (now even)\n",
        "  (hour the)\n",
        "  (dedicated from which I myself (enterprise to this great)))\n",
        "---------\n",
        "['I', 'can', Tree('now', ['even']), Tree('hour', ['the']), Tree('dedicated', ['from', 'which', 'I', 'myself', Tree('enterprise', ['to', 'this', 'great'])])] <class 'nltk.tree.Tree'>\n",
        "=========\n"
       ]
      }
     ],
     "prompt_number": 36
    },
    {
     "cell_type": "code",
     "collapsed": false,
     "input": [
      "#View the result, when remember root node is present and is a nltk.tree.Tree object.\n",
      "print((componente[0][1][4]))\n",
      "list(componente[0])"
     ],
     "language": "python",
     "metadata": {},
     "outputs": [
      {
       "output_type": "stream",
       "stream": "stdout",
       "text": [
        "(dedicated from which I myself (enterprise to this great))\n"
       ]
      },
      {
       "metadata": {},
       "output_type": "pyout",
       "prompt_number": 513,
       "text": [
        "[0,\n",
        " Tree('remember', ['I', 'can', Tree('now', ['even']), Tree('hour', ['the']), Tree('dedicated', ['from', 'which', 'I', 'myself', Tree('enterprise', ['to', 'this', 'great'])])])]"
       ]
      }
     ],
     "prompt_number": 513
    },
    {
     "cell_type": "code",
     "collapsed": false,
     "input": [
      "from collections import defaultdict\n",
      "\n",
      "D = defaultdict(int)\n",
      "nivel = 1\n",
      "head_nodes=defaultdict(dict)\n",
      "\n",
      "def get_dict_from_list(dicc,lista, nivel,head_nodes):\n",
      "    pendents = []\n",
      "    \n",
      "    if nivel == 1: \n",
      "        head_nodes[1][1] = lista[0]                   #Head node of level 1 or ROOT node\n",
      "        dicc[lista[0]] +=1\n",
      "        for element in lista[1]:\n",
      "            if isinstance(element,str):\n",
      "                dicc[element]+=1\n",
      "            if isinstance(element, Tree):\n",
      "                pendents.append(element)\n",
      "                for i in range(len(element)-1):\n",
      "                    subelement = element[i]\n",
      "                    try:\n",
      "                        if isinstance(element[i+1],list):\n",
      "                            head_nodes[nivel+1][subelement] = lista[0] #head_nodes[level][child] = parent\n",
      "                    except:\n",
      "                        pass\n",
      "    \n",
      "    if nivel > 1:\n",
      "        for subtree in lista:\n",
      "            print('subtree',subtree)\n",
      "            \n",
      "            #Add Tree len to level head nodes\n",
      "            if subtree[0] in head_nodes[nivel].keys(): # If element[0] is child of a prev node then add length of that subtree \n",
      "                child = subtree[0]                     # to head-node leaves\n",
      "                for level in range(nivel,1,-1):           # from level 1 to actual level\n",
      "                    parent = head_nodes[level][child]\n",
      "                    dicc[parent] += len(subtree[1])\n",
      "                    child = parent\n",
      "            \n",
      "            # Check if there is not a new subtree inside the actual subtree\n",
      "            for i in range(len(subtree[1])):\n",
      "                subelement = subtree[1][i]\n",
      "                try:\n",
      "                    if isinstance(subtree[1][i], Tree):\n",
      "                        head_nodes[nivel+1][subtree[1][i][0]] = subtree[0] #next level root nodes with childs (list elements)\n",
      "                        pendents.append(subtree[1][i]) # Add to pendents the element list for future sub-level processing\n",
      "                except:\n",
      "                    pass\n",
      "            \n",
      "            dicc[subtree[0]] = len(subtree[1])\n",
      "            for element in subtree[1]:\n",
      "                if isinstance(element, str):\n",
      "                    dicc[element] += 1\n",
      "     \n",
      "    nivel += 1\n",
      "\n",
      "    if len(pendents) > 0:\n",
      "        get_dict_from_list(dicc,pendents, nivel, head_nodes)\n",
      "        \n",
      "    return dicc\n"
     ],
     "language": "python",
     "metadata": {},
     "outputs": [],
     "prompt_number": 95
    },
    {
     "cell_type": "code",
     "collapsed": false,
     "input": [
      "#TODO: Hacer el cambio de adicionar el label y los leaves a la funci\u00f3n get_dict_from_list\n",
      "list3 = []\n",
      "A = list(componente[0])\n",
      "unit = defaultdict(int)\n",
      "D = get_dict_from_list(D,A, nivel,head_nodes)\n",
      "print(D)\n",
      "for element in componente[0]:\n",
      "    if isinstance(element, Tree):\n",
      "        list3.append((element.label(),len(element.leaves())))\n",
      "        aux = element.leaves()\n",
      "for key in aux:\n",
      "    unit[key]=1\n",
      "print('aux', aux)\n",
      "for element in componente[0][1]:\n",
      "    if isinstance(element,str):\n",
      "        list3.append((element,1))\n",
      "    if isinstance(element, Tree):\n",
      "        list3.append((element.label(),len(element.leaves())))\n",
      "        aux = element.leaves()\n",
      "    print('aux', aux)\n",
      "    for key in aux:\n",
      "        unit[key]=1\n",
      "for word,value in unit.items():\n",
      "    list3.append((word,value))\n",
      "print('---------')\n",
      "print(list3)\n",
      "dict2 = defaultdict(int)\n",
      "print('---------')\n",
      "for x,y in list3:\n",
      "    dict2[x]+=y\n",
      "list2 = sorted(zip(dict2.values(),dict2.keys()))\n",
      "print(list2)    "
     ],
     "language": "python",
     "metadata": {},
     "outputs": [
      {
       "output_type": "stream",
       "stream": "stdout",
       "text": [
        "aux ['I', 'can', 'even', 'the', 'from', 'which', 'I', 'myself', 'to', 'this', 'great']\n",
        "aux ['I', 'can', 'even', 'the', 'from', 'which', 'I', 'myself', 'to', 'this', 'great']\n",
        "aux ['I', 'can', 'even', 'the', 'from', 'which', 'I', 'myself', 'to', 'this', 'great']\n",
        "aux ['even']\n",
        "aux ['the']\n",
        "aux ['from', 'which', 'I', 'myself', 'to', 'this', 'great']\n",
        "---------\n",
        "[('remember', 11), ('I', 1), ('can', 1), ('now', 1), ('hour', 1), ('dedicated', 7), ('this', 1), ('from', 1), ('can', 1), ('to', 1), ('great', 1), ('I', 1), ('the', 1), ('which', 1), ('even', 1), ('myself', 1)]\n",
        "---------\n",
        "[(1, 'even'), (1, 'from'), (1, 'great'), (1, 'hour'), (1, 'myself'), (1, 'now'), (1, 'the'), (1, 'this'), (1, 'to'), (1, 'which'), (2, 'I'), (2, 'can'), (7, 'dedicated'), (11, 'remember')]\n"
       ]
      }
     ],
     "prompt_number": 517
    },
    {
     "cell_type": "code",
     "collapsed": false,
     "input": [
      "s_ngram = s_ngram1.copy()\n",
      "def get_j_from_list(j,lista):\n",
      "    for i,tupla in enumerate(lista):\n",
      "        if j == tupla[1]:\n",
      "            return lista.pop(i)\n",
      "\n",
      "def decrement_dict(lista,j,n):\n",
      "    for i,tupla in enumerate(lista):\n",
      "        if j == tupla[1]:\n",
      "            lista[i] = (lista[i][0]-n,lista[i][1])\n",
      "            return lista\n",
      "\n",
      "dict1 = defaultdict(list)\n",
      "for p,(k,j) in enumerate(list2):\n",
      "    first_time = True\n",
      "    while(j!=ROOT):\n",
      "        print('p,j',p,j,'first_time',first_time)\n",
      "        if not first_time:\n",
      "            x,y = get_j_from_list(j, s_ngram)\n",
      "            print('x,y:',x,y)\n",
      "            dict1[p].append(x)\n",
      "            list2 = decrement_dict(list2,x,1)\n",
      "            j = x\n",
      "        else:\n",
      "            dict1[p]=[j]\n",
      "            x,y = get_j_from_list(j, s_ngram)\n",
      "            print('x,y:',x,y)\n",
      "            list2 = decrement_dict(list2,j,1)\n",
      "            dict1[p].append(x)\n",
      "            list2 = decrement_dict(list2,x,1)\n",
      "            j = x\n",
      "            first_time = False\n",
      "        print('j',j)\n",
      "    print('dict1',dict1)\n",
      "    print('list2',list2)"
     ],
     "language": "python",
     "metadata": {},
     "outputs": [
      {
       "output_type": "stream",
       "stream": "stdout",
       "text": [
        "[(1, 'can'), (1, 'even'), (1, 'from'), (1, 'great'), (1, 'myself'), (1, 'the'), (1, 'this'), (1, 'to'), (1, 'which'), (2, 'I'), (2, 'hour'), (2, 'now'), (4, 'enterprise'), (5, 'remember'), (6, 'dedicated')]\n",
        "p,j 0 can first_time True\n",
        "x,y: remember can\n",
        "j remember\n",
        "dict1 defaultdict(<class 'list'>, {0: ['can', 'remember']})\n",
        "list2 [(0, 'can'), (1, 'even'), (1, 'from'), (1, 'great'), (1, 'myself'), (1, 'the'), (1, 'this'), (1, 'to'), (1, 'which'), (2, 'I'), (2, 'hour'), (2, 'now'), (4, 'enterprise'), (4, 'remember'), (6, 'dedicated')]\n",
        "p,j 1 even first_time True\n",
        "x,y: now even\n",
        "j now\n",
        "p,j 1 now first_time False\n",
        "x,y: remember now\n",
        "j remember\n",
        "dict1 defaultdict(<class 'list'>, {0: ['can', 'remember'], 1: ['even', 'now', 'remember']})\n",
        "list2 [(0, 'can'), (0, 'even'), (1, 'from'), (1, 'great'), (1, 'myself'), (1, 'the'), (1, 'this'), (1, 'to'), (1, 'which'), (2, 'I'), (2, 'hour'), (1, 'now'), (4, 'enterprise'), (3, 'remember'), (6, 'dedicated')]\n",
        "p,j 2 from first_time True\n",
        "x,y: dedicated from\n",
        "j dedicated\n",
        "p,j 2 dedicated first_time False\n",
        "x,y: remember dedicated\n",
        "j remember\n",
        "dict1 defaultdict(<class 'list'>, {0: ['can', 'remember'], 1: ['even', 'now', 'remember'], 2: ['from', 'dedicated', 'remember']})\n",
        "list2 [(0, 'can'), (0, 'even'), (0, 'from'), (1, 'great'), (1, 'myself'), (1, 'the'), (1, 'this'), (1, 'to'), (1, 'which'), (2, 'I'), (2, 'hour'), (1, 'now'), (4, 'enterprise'), (2, 'remember'), (5, 'dedicated')]\n",
        "p,j 3 great first_time True\n",
        "x,y: enterprise great\n",
        "j enterprise\n",
        "p,j 3 enterprise first_time False\n",
        "x,y: dedicated enterprise\n",
        "j dedicated\n",
        "p,j 3 dedicated first_time False\n"
       ]
      },
      {
       "ename": "TypeError",
       "evalue": "'NoneType' object is not iterable",
       "output_type": "pyerr",
       "traceback": [
        "\u001b[0;31m---------------------------------------------------------------------------\u001b[0m\n\u001b[0;31mTypeError\u001b[0m                                 Traceback (most recent call last)",
        "\u001b[0;32m<ipython-input-207-929ae590f1ff>\u001b[0m in \u001b[0;36m<module>\u001b[0;34m()\u001b[0m\n\u001b[1;32m     26\u001b[0m         \u001b[0mprint\u001b[0m\u001b[0;34m(\u001b[0m\u001b[0;34m'p,j'\u001b[0m\u001b[0;34m,\u001b[0m\u001b[0mp\u001b[0m\u001b[0;34m,\u001b[0m\u001b[0mj\u001b[0m\u001b[0;34m,\u001b[0m\u001b[0;34m'first_time'\u001b[0m\u001b[0;34m,\u001b[0m\u001b[0mfirst_time\u001b[0m\u001b[0;34m)\u001b[0m\u001b[0;34m\u001b[0m\u001b[0m\n\u001b[1;32m     27\u001b[0m         \u001b[0;32mif\u001b[0m \u001b[0;32mnot\u001b[0m \u001b[0mfirst_time\u001b[0m\u001b[0;34m:\u001b[0m\u001b[0;34m\u001b[0m\u001b[0m\n\u001b[0;32m---> 28\u001b[0;31m             \u001b[0mx\u001b[0m\u001b[0;34m,\u001b[0m\u001b[0my\u001b[0m \u001b[0;34m=\u001b[0m \u001b[0mget_j_from_list\u001b[0m\u001b[0;34m(\u001b[0m\u001b[0mj\u001b[0m\u001b[0;34m,\u001b[0m \u001b[0ms_ngram\u001b[0m\u001b[0;34m)\u001b[0m\u001b[0;34m\u001b[0m\u001b[0m\n\u001b[0m\u001b[1;32m     29\u001b[0m             \u001b[0mprint\u001b[0m\u001b[0;34m(\u001b[0m\u001b[0;34m'x,y:'\u001b[0m\u001b[0;34m,\u001b[0m\u001b[0mx\u001b[0m\u001b[0;34m,\u001b[0m\u001b[0my\u001b[0m\u001b[0;34m)\u001b[0m\u001b[0;34m\u001b[0m\u001b[0m\n\u001b[1;32m     30\u001b[0m             \u001b[0mdict1\u001b[0m\u001b[0;34m[\u001b[0m\u001b[0mp\u001b[0m\u001b[0;34m]\u001b[0m\u001b[0;34m.\u001b[0m\u001b[0mappend\u001b[0m\u001b[0;34m(\u001b[0m\u001b[0mx\u001b[0m\u001b[0;34m)\u001b[0m\u001b[0;34m\u001b[0m\u001b[0m\n",
        "\u001b[0;31mTypeError\u001b[0m: 'NoneType' object is not iterable"
       ]
      }
     ],
     "prompt_number": 207
    },
    {
     "cell_type": "markdown",
     "metadata": {},
     "source": [
      "# Conclusions\n",
      "\n",
      "- Do not draw syntactic tree with PIL or any other graphic library is a bad idea."
     ]
    },
    {
     "cell_type": "markdown",
     "metadata": {},
     "source": [
      "Volver al [*\u00cdndice*](#indice).\n",
      "\n",
      "<a id='references'></a>\n",
      "##Referencias##\n",
      "\n",
      "* <a id='Sidorov2012'></a>**[Sidorov2012]** Grigori Sidorov et all., *Syntactic N-grams as Machine Learning Features for Natural Language Processing*, 2012. In Expert Systems with Applications, 4(3): 853-860."
     ]
    }
   ],
   "metadata": {}
  }
 ]
}