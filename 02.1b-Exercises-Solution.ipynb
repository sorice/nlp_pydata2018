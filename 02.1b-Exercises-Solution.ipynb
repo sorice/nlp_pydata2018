{
 "metadata": {
  "name": "",
  "signature": "sha256:d10b9969346fdd157222868e1a37e6ee0c134a2516b51a799b6e218faaf92648"
 },
 "nbformat": 3,
 "nbformat_minor": 0,
 "worksheets": [
  {
   "cells": [
    {
     "cell_type": "markdown",
     "metadata": {},
     "source": [
      "## Exercise 1 \n",
      "This solutions was proved in python 2, ubuntu 16.04. The same package for python3 was unavailable in the official repository. Src from [github](https://gist.github.com/ckolumbus/10103544)."
     ]
    },
    {
     "cell_type": "code",
     "collapsed": false,
     "input": [
      "from pdfminer.pdfparser import PDFParser\n",
      "from pdfminer.pdfdocument import PDFDocument\n",
      "from pdfminer.pdftypes import PDFObjectNotFound\n",
      "\n",
      "pages = []\n",
      "comments = {}\n",
      "\n",
      "def extract(objid, obj):\n",
      "    global pages\n",
      "    if isinstance(obj, dict):\n",
      "        # 'Type' is PDFObjRef type\n",
      "        if obj.has_key('Type') and obj['Type'].name == 'Page':\n",
      "            pages.append(objid)\n",
      "        elif obj.has_key('C'):\n",
      "            \n",
      "            pr = obj['P']\n",
      "            try:\n",
      "                pi = pages.index(pr.objid)+1\n",
      "            except:\n",
      "                pi = -1\n",
      "            if 'Contents' in obj.keys():\n",
      "                print(objid,pi, obj['Subtype'],obj['T'],type(obj['Contents']),obj['Contents'])\n",
      "                #Cleaning the text of the comment and saving into the dict\n",
      "                A = obj['Contents'].replace('\\xfe','')\n",
      "                A = A.replace('\\xff','')\n",
      "                A = A.replace('\\x00','')\n",
      "                comments[len(comments)+1] = A\n",
      "            else:\n",
      "                print(objid,pi, obj['Subtype'],obj['T'])\n",
      "\n",
      "fp = file(\"test/2.1/testHuman_comments.pdf\", 'rb')\n",
      "parser = PDFParser(fp)\n",
      "doc = PDFDocument(parser, \"\")\n",
      "visited = set()\n",
      "for xref in doc.xrefs:\n",
      "    for objid in xref.get_objids():\n",
      "        if objid in visited: continue\n",
      "        visited.add(objid)\n",
      "        try:\n",
      "            obj = doc.getobj(objid)\n",
      "            if obj is None: continue\n",
      "            extract(objid,obj)\n",
      "        except PDFObjectNotFound, e:\n",
      "            print >>sys.stderr, 'not found: %r' % e\n"
     ],
     "language": "python",
     "metadata": {},
     "outputs": []
    }
   ],
   "metadata": {}
  }
 ]
}