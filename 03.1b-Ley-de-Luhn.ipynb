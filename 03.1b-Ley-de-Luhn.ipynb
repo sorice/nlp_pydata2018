{
 "cells": [
  {
   "cell_type": "markdown",
   "metadata": {},
   "source": [
    "<small><i>This notebook was put together by [Abel Meneses](http://www.menesesabad.com) for PyData 2018. Source and license info is on [GitHub](https://github.com/sorice/nlp_pydata2018/).</i></small>"
   ]
  },
  {
   "cell_type": "markdown",
   "metadata": {},
   "source": [
    "# Bases de NLP\n",
    "\n",
    "[Ver proceso previo: 3.1 Shallow NLP Techniques: filtrado de stopwords, stemming, lemmatization](03.1-Shallow-NLP.ipynb)"
   ]
  },
  {
   "cell_type": "markdown",
   "metadata": {},
   "source": [
    "**Fecha de elaboración inicial**: 8 de agosto de 2015\n",
    "**Última actualización**: 18 de octubre de 2017\n",
    "<a id='indice'></a>\n",
    "## Índice\n",
    "\n",
    "1. [Datos.](#datos) Descripción de los datos que se utilizarán en el notebook.\n",
    "\n",
    "- 1.1 [Transformar los datos.](#transformar_los_datos) de PDF a txt para hacer más fácil su\n",
    "manipulación en python.\n",
    "\n",
    "2. [Ejemplos Básicos.](#Luhn_manipulation) Usualmente útiles para hacer Minería de Texto.\n",
    "\n",
    "3. [Playfull and Depper Programación NLP](#playfull_programming)\n",
    "\n",
    "- 3.1 [Ponderación de Términos](#ponderacion_de_terminos)\n",
    "- 3.2 [Probando Rendimiento](#profiling)\n",
    "\n",
    "[Conclusiones](#conclusiones)\n",
    "\n",
    "[Ejercicios](#ejercicios)\n",
    "\n",
    "[Referencias](#referencias)\n",
    "\n",
    "[Índice Alfabético](#indice_alfabetico)"
   ]
  },
  {
   "cell_type": "markdown",
   "metadata": {},
   "source": [
    "<a id='datos'></a>\n",
    "## Datos\n",
    "\n",
    "Para todos los ejemplos se usarán dos libros, uno en inglés y otro en español. El \n",
    "primero es **Free Software Free Society** y el segundo una traducción de este primero\n",
    "**Software Libre para una Sociedad Libre**.\n",
    "\n",
    "<a id='transformar_los_datos'></a>\n",
    "### Transformar los datos\n",
    "Generalmente casi todos los materiales que poseemos son *PDFs* y para operar con textos\n",
    "en python lo mejor es usar .txt o formatos no enriquecidos. ¿Cómo transformar PDF\n",
    "en TXT?\n",
    "\n",
    "Nuestra recomendación es usar pdftotxt que aparece en los repositorios de GNU/Linux\n",
    "dentro del paquete **poppler-utils**. Si conocen algún escript adecuado para esta tarea\n",
    "utilizando la biblioteca *ghostscript* la recomendamos por encima de *pdftotext*. Sin \n",
    "embargo es bastante difícil encontrar semejante script, no dudamos de que en el futuro\n",
    "lo encontremos. El comando a ejecutar es sencillo:\n",
    "\n",
    "~$ pdftotext archivo.pdf\n",
    "\n",
    "**Resultado:** archivo.txt\n",
    "\n",
    "Hay que tener en cuenta que este script de *extracción de textos* genera los .txt\n",
    "con muchos problemas: fundamentalmente caracteres extraños.\n",
    "Tal vez resultará más útil para el lector estudiar aplicaciones y bibliotecas más \n",
    "especializadas para este tipo de problema del procesamiento de textos como: Apache-Tika,\n",
    "u otros. Sin embargo en el tema anterior sobre pre-procesamiento, el lector podrá\n",
    "encontrar como resolver estos problemas sin usar grandes bibliotecas\n",
    "para un buen trabajo con los ejemplos básicos de NLP que se ofrecen a continuación.\n",
    "\n",
    "<a id='Luhn_manipulation'></a>\n",
    "## Preparando el texto para aplicar Luhn\n",
    "\n",
    "Los siguientes códigos son necesarios para aplicar Luhn al final de este notebook."
   ]
  },
  {
   "cell_type": "code",
   "execution_count": 1,
   "metadata": {},
   "outputs": [],
   "source": [
    "#SoftwareWars2.txt is a normalized version of SoftwareWars.txt\n",
    "texto = open('data/SoftwareWars2.txt').read().lower()"
   ]
  },
  {
   "cell_type": "code",
   "execution_count": 2,
   "metadata": {},
   "outputs": [
    {
     "name": "stdout",
     "output_type": "stream",
     "text": [
      "Total de palabras:  102721\n"
     ]
    }
   ],
   "source": [
    "from nltk.tokenize import RegexpTokenizer\n",
    "tokenizer = RegexpTokenizer(\"\\s+\", gaps=True)\n",
    "tokens = tokenizer.tokenize(texto)\n",
    "print (\"Total de palabras: \", len(tokens))"
   ]
  },
  {
   "cell_type": "markdown",
   "metadata": {},
   "source": [
    "En ambos casos se devuelve el total de palabras(o tokens) divididos por el caracter\n",
    "*espacio*. Sin embargo las palabras en un texto se repiten. ¿Cómo saber las palabras\n",
    "únicas?"
   ]
  },
  {
   "cell_type": "code",
   "execution_count": 3,
   "metadata": {},
   "outputs": [
    {
     "name": "stdout",
     "output_type": "stream",
     "text": [
      "Palabras únicas: 10127\n"
     ]
    }
   ],
   "source": [
    "tokens_unique=set([])\n",
    "tokens_unique = set(tokens)\n",
    "print (\"Palabras únicas:\", len(tokens_unique))"
   ]
  },
  {
   "cell_type": "markdown",
   "metadata": {},
   "source": [
    "Como se puede ver en el libro Bird et al.[[1](#Bird2009)] la pregunta más simple y \n",
    "común que se hace uno al ver estas cifras suelen ser: ¿Cuál es el promedio de palabras\n",
    "por página? ¿Cuál es la palabra más utilizada? ¿Qué palabras se usan una vez? Veamos\n",
    "algunas formas de calcularlo, para ello necesitaremos algunas funciones extras:\n",
    "\n",
    "<a id='sect2.5'></a>"
   ]
  },
  {
   "cell_type": "code",
   "execution_count": 4,
   "metadata": {
    "collapsed": true
   },
   "outputs": [],
   "source": [
    "#Inicializar un diccionario para guardar el # de apariciones de cada palabra.\n",
    "dict = {}\n",
    "for word in tokens_unique:\n",
    "    dict[word]=0\n",
    "#Diccionario con word = # apariciones.\n",
    "for token in tokens:\n",
    "    dict[token]+=1\n",
    "#Operar con una tupla puede ser mejor. Lista([#apariciones,word])\n",
    "tupla = []\n",
    "for word in dict:\n",
    "    tupla.append([dict[word],word])"
   ]
  },
  {
   "cell_type": "markdown",
   "metadata": {},
   "source": [
    "Esta tupla puede ser ordenada de la siguiente forma: al poner el # de apariciones \n",
    "delante, podemos usar el elemento *tupla[i][0]* como parámetro de ordenamiento."
   ]
  },
  {
   "cell_type": "code",
   "execution_count": 5,
   "metadata": {},
   "outputs": [
    {
     "name": "stdout",
     "output_type": "stream",
     "text": [
      "Las 5 palabras más utilizadas son:\n",
      ". : 5590\n",
      "the : 4795\n",
      "to : 2645\n",
      "of : 2510\n",
      "a : 2445\n"
     ]
    }
   ],
   "source": [
    "tupla=sorted(tupla)\n",
    "print (\"Las 5 palabras más utilizadas son:\")\n",
    "for i in range(1,6):\n",
    "    print (tupla[-i][1],\":\",tupla[-i][0])"
   ]
  },
  {
   "cell_type": "code",
   "execution_count": 6,
   "metadata": {},
   "outputs": [
    {
     "name": "stdout",
     "output_type": "stream",
     "text": [
      "Tiempo de filtrado de stopwords:  0.09764742851257324\n",
      "Palabras únicas sin stops: 9970\n",
      "Las 5 palabras más utilizadas después de filtrar los stopwords son:\n",
      "software : 911\n",
      "free : 638\n",
      "linux : 467\n",
      "code : 414\n",
      "microsoft : 378\n",
      "Total de palabras del texto:  102721\n",
      "Palabras en el texto sin stopwords: 53825\n",
      "Palabras eliminadas en el proceso de filtrado de stopwords: 48896\n"
     ]
    }
   ],
   "source": [
    "import time\n",
    "from nltk.corpus import stopwords\n",
    "timei = time.time()\n",
    "english_stops = set(stopwords.words('en'))\n",
    "tokens_afterstops=[]\n",
    "for k in range(len(tokens)-1):\n",
    "    if tokens[k] not in english_stops and len(tokens[k])>1:\n",
    "        tokens_afterstops.append(tokens[k])\n",
    "timef = time.time()-timei\n",
    "print (\"Tiempo de filtrado de stopwords: \",timef)\n",
    "\n",
    "tokens_unique1 = set(tokens_afterstops)\n",
    "dict1 = {} #dict con keys = set de tokens after stops\n",
    "for word in tokens_unique1:\n",
    "    dict1[word]=0\n",
    "\n",
    "tupla1 = [] #Creando lista de tuplas(# ocurrencias,word) sin stopwords\n",
    "for token in tokens_afterstops:\n",
    "    dict1[token]+=1\n",
    "for word in dict1:\n",
    "    tupla1.append([dict1[word],word])\n",
    "tupla1=sorted(tupla1)\n",
    "\n",
    "print (\"Palabras únicas sin stops:\", len(tokens_unique1))\n",
    "print (\"Las 5 palabras más utilizadas después de filtrar los stopwords son:\")\n",
    "for i in range(1,6):\n",
    "    print (tupla1[-i][1],\":\",tupla1[-i][0])\n",
    "print (\"Total de palabras del texto: \", len(tokens))\n",
    "print (\"Palabras en el texto sin stopwords:\", len(tokens_afterstops))\n",
    "print (\"Palabras eliminadas en el proceso de filtrado de stopwords:\", \n",
    "len(tokens)-len(tokens_afterstops))"
   ]
  },
  {
   "cell_type": "markdown",
   "metadata": {},
   "source": [
    "Volver al [*Índice*](#indice).\n",
    "\n",
    "<a id='playfull_programming'></a>\n",
    "# Playfull and Depper Programming\n",
    "\n",
    "Esta sección es una sección avanzada sobre NLP y sus procesos básicos. \n",
    "En las secciones anteriores hemos filtrado \n",
    "los stopwords que son palabras sin contenido semántico y las más frecuentes, en el \n",
    "caso del steamming se elimina algunos sufijos y se puede hacer con expresiones regulares\n",
    "o basados en reglas. En cualquiera de estos casos la estadística es fundamental para \n",
    "el algoritmo o para el mecanismo de aprendizaje a utilizar. Y en todos los pasos vimos\n",
    "como se reduce el número de palabras tratando de encontrar las más importantes.\n",
    "\n",
    "Veamos ahora un ejemplo de NLP un área de la computación muy relacionada, **Information \n",
    "Retrieval** (*o Recuperación de Información*). Se trata de la *Ley de Luhn*[[2](#Luhn1958)], o el \n",
    "hallazgo de la banda de las palabras más importantes de un documento.\n",
    "\n",
    "<a id='ponderacion_de_terminos'></a>\n",
    "## Ponderación de Términos\n",
    "**Ley de Luhn**\n",
    "\n",
    "Luhn planteó que los textos se comportan como una función logarítmica negativa o una\n",
    "función de cola larga. Donde los stopwords están al inicio, y las palabras poco \n",
    "frecuentes que tampoco definen el contexto están al final. Veamos una gráfica de este\n",
    "libro. Usando la variable *tupla* de la sección de código [2.5](#sect2.5) construimos\n",
    "un arreglo de *numpy* del cual se extrae la media($\\mu$) y la varianza($\\sigma$), \n",
    "valores que posteriormente se usarán en muchos cálculos."
   ]
  },
  {
   "cell_type": "code",
   "execution_count": 7,
   "metadata": {},
   "outputs": [
    {
     "name": "stdout",
     "output_type": "stream",
     "text": [
      "Populating the interactive namespace from numpy and matplotlib\n"
     ]
    }
   ],
   "source": [
    "%pylab inline"
   ]
  },
  {
   "cell_type": "code",
   "execution_count": 8,
   "metadata": {},
   "outputs": [
    {
     "name": "stdout",
     "output_type": "stream",
     "text": [
      "10.1432803397\n",
      "99.4680087938\n",
      "(10127,)\n"
     ]
    },
    {
     "data": {
      "image/png": "[encoded data removed]",
      "text/plain": [
       "<matplotlib.figure.Figure at 0x7fa99c065518>"
      ]
     },
     "metadata": {},
     "output_type": "display_data"
    }
   ],
   "source": [
    "import scipy\n",
    "xarray = []\n",
    "t=scipy.linspace(0,len(tupla),num=len(tupla))\n",
    "for i in range(len(tupla)):\n",
    "    xarray.append(tupla[i][0])\n",
    "xarray.reverse()\n",
    "\n",
    "x = numpy.array(xarray,dtype=numpy.int16)\n",
    "mux = x.mean()\n",
    "sigmax = x.std()\n",
    "print (mux) \n",
    "print (sigmax)\n",
    "print (x.shape)\n",
    "\n",
    "plt.plot(t[:1000],x[:1000])\n",
    "plt.show()"
   ]
  },
  {
   "cell_type": "markdown",
   "metadata": {},
   "source": [
    "**Ejemplo Experimental de Luhn**\n",
    "\n",
    "### 1er paso: Generar distribución zeta de prueba."
   ]
  },
  {
   "cell_type": "code",
   "execution_count": 9,
   "metadata": {},
   "outputs": [
    {
     "data": {
      "text/plain": [
       "[<matplotlib.lines.Line2D at 0x7fa99bca94a8>]"
      ]
     },
     "execution_count": 9,
     "metadata": {},
     "output_type": "execute_result"
    },
    {
     "data": {
      "image/png": "[encoded data removed]",
      "text/plain": [
       "<matplotlib.figure.Figure at 0x7fa99bde06a0>"
      ]
     },
     "metadata": {},
     "output_type": "display_data"
    }
   ],
   "source": [
    "dist = np.random.zipf(2,size=1000)              # generar distribución zeta\n",
    "dist = np.fix(dist)                             # dist zeta aproximada\n",
    "dist1=np.sqrt(dist**2)                          # del negative values\n",
    "dist2 = np.array(dist1,dtype=np.int16)          # llevado a enteros\n",
    "dist3 = np.sort(dist2,axis=None,kind='mergesort') # ordenados de menor a mayor\n",
    "mu = dist2.mean()\n",
    "sigma = dist2.std()\n",
    "dist3[:]=dist3[::-1]                            # ordenado de mayor a menor\n",
    "plot(t[:200],dist3[:200])"
   ]
  },
  {
   "cell_type": "markdown",
   "metadata": {},
   "source": [
    "### 2do paso: Comprobar que el documento cumple con la ley de Zipf."
   ]
  },
  {
   "cell_type": "code",
   "execution_count": 10,
   "metadata": {},
   "outputs": [
    {
     "data": {
      "text/plain": [
       "[<matplotlib.lines.Line2D at 0x7fa99c0647f0>]"
      ]
     },
     "execution_count": 10,
     "metadata": {},
     "output_type": "execute_result"
    },
    {
     "data": {
      "image/png": "[encoded data removed]",
      "text/plain": [
       "<matplotlib.figure.Figure at 0x7fa99c064630>"
      ]
     },
     "metadata": {},
     "output_type": "display_data"
    }
   ],
   "source": [
    "#Si cumple con la ley de zipf la representación sigte será aprox una recta.\n",
    "t = arange(1,1001,1)\n",
    "logf = log(dist3)\n",
    "logt = log(t)\n",
    "plot(logf,logt)"
   ]
  },
  {
   "cell_type": "markdown",
   "metadata": {},
   "source": [
    "### 3er paso: Generar una distribución normal a partir de Zeta.\n",
    "\n",
    "Este paso es una propuesta personal a partir de la oscuridad en el artículo de Luhn \n",
    "[[2](#Luhn1958)] con respecto a los bordes de corte. Algunos artículos consideran\n",
    "que en la determinación de estos límites hay cierto empirismo. Los cálculos se hacen\n",
    "utilizando una hipótesis nula \n",
    "[Keith web book, chapter2](http://www.dcs.gla.ac.uk/Keith/Chapter.2/Ch.2.html)/\n",
    "[inlink](./htmls/3.1/Keith_Ch2/index.html)."
   ]
  },
  {
   "cell_type": "code",
   "execution_count": 11,
   "metadata": {},
   "outputs": [
    {
     "name": "stdout",
     "output_type": "stream",
     "text": [
      "31 133\n"
     ]
    },
    {
     "data": {
      "image/png": "[encoded data removed]",
      "text/plain": [
       "<matplotlib.figure.Figure at 0x7fa99c064208>"
      ]
     },
     "metadata": {},
     "output_type": "display_data"
    },
    {
     "name": "stdout",
     "output_type": "stream",
     "text": [
      "82.1780440434 25.5430146811\n"
     ]
    }
   ],
   "source": [
    "import matplotlib.pyplot as plt\n",
    "\n",
    "bins = np.arange(0,1000,1)\n",
    "dist4 = dist3/float(1000)\n",
    "#Ploting Zipf distribution\n",
    "plt.plot(t[10:200],dist4[10:200])\n",
    "sigma = dist3.std()\n",
    "mu = dist3.mean()+3*sigma\n",
    "pdf = (1/(sigma * numpy.sqrt(2 * numpy.pi))\n",
    "* numpy.exp( - (bins - mu)**2 / (2 * sigma**2) ))\n",
    "\n",
    "#Ploting density function\n",
    "plt.plot(bins[10:200],pdf[10:200])\n",
    "\n",
    "perc_05 = int(mu-2*sigma)\n",
    "perc_95 = int(mu+2*sigma)\n",
    "print(perc_05, perc_95)\n",
    "# Dibujando la línea discontínua del lower cut-off.\n",
    "plt.axvline(perc_05,label='05 perc',c='r')\n",
    "# Dibujando la línea discontínua del upper cut-off.\n",
    "plt.axvline(perc_95,label='95t perc',c='m')\n",
    "plt.show()\n",
    "print (mu, sigma)"
   ]
  },
  {
   "cell_type": "markdown",
   "metadata": {},
   "source": [
    "Siguiendo estos 3 pasos en nuestro libro real los valores son la palabra 24 y la 102 la \n",
    "que limitan el intervalo de las palabras más significativas de este texto."
   ]
  },
  {
   "cell_type": "code",
   "execution_count": 12,
   "metadata": {},
   "outputs": [
    {
     "name": "stdout",
     "output_type": "stream",
     "text": [
      "also : 130\n",
      "battle : 54\n",
      "All important words: [[54, 'battle'], [54, 'book'], [54, 'market'], [55, 'industry'], [55, 'money'], [55, 'search'], [55, 'small'], [56, 'biggest'], [56, 'bugs'], [57, 'around'], [57, 'available'], [57, 'didn'], [57, 'music'], [58, 'back'], [58, 'development'], [58, 'go'], [58, 'isn'], [58, 'us'], [58, 'working'], [60, 'companies'], [60, 'source'], [61, 'file'], [61, 'user'], [62, 'best'], [62, 'information'], [62, 'think'], [63, 'lot'], [63, 'want'], [64, 'right'], [64, 'standard'], [64, 'sun'], [64, 'therefore'], [64, 'write'], [65, 'idea'], [65, 'times'], [66, 'drivers'], [66, 'part'], [66, 'standards'], [67, 'cost'], [68, 'copyright'], [68, 'written'], [69, 'applications'], [69, 'built'], [69, 'without'], [70, 'company'], [70, 'data'], [71, 'format'], [72, 'building'], [72, 'driver'], [72, 'operating'], [72, 'patents'], [72, 'programming'], [73, 'still'], [73, 'used'], [73, 'using'], [73, 'yet'], [74, 'create'], [75, 'run'], [76, 'computers'], [76, 'features'], [76, 'future'], [76, 'number'], [76, 'office'], [76, 'something'], [76, 'wikipedia'], [77, 'internet'], [77, 'memory'], [80, '000'], [80, 'never'], [80, 'two'], [81, 'made'], [81, 'ubuntu'], [82, 'problem'], [83, 'take'], [84, 'big'], [84, 'different'], [84, 'users'], [85, 'build'], [85, 'developers'], [87, 'however'], [88, 'space'], [91, 'os'], [91, 'way'], [92, 'good'], [92, 'might'], [93, 'fact'], [99, 'apple'], [99, 'important'], [103, 'google'], [104, 'every'], [107, 'things'], [109, 'created'], [110, 'tools'], [118, 'community'], [121, 'debian'], [121, 'need'], [122, 'first'], [123, 'better'], [123, 'get'], [123, 'web'], [128, 'java'], [128, 'proprietary'], [130, 'also']]\n"
     ]
    }
   ],
   "source": [
    "print (tupla1[-perc_05][1],\":\",tupla1[-perc_05][0])\n",
    "print (tupla1[-perc_95][1],\":\",tupla1[-perc_95][0])\n",
    "print ('All important words:', tupla1[len(tupla1)-perc_95:len(tupla1)-perc_05+1])"
   ]
  },
  {
   "cell_type": "markdown",
   "metadata": {},
   "source": [
    "Este método es ampliamente utilizado en la generación de resúmenes automáticos. Puede\n",
    "servir para dar un peso a las palabras dentro del documento, y extraer las estructuras\n",
    "más ponderadas: oraciones, párrafos, etc. Como es posible observar en el \n",
    "ejemplo del libro \"After de Software Wars\", este método deja de 102721 palabras solo \n",
    "unas 200 significativas."
   ]
  },
  {
   "cell_type": "markdown",
   "metadata": {},
   "source": [
    "<a id='conclusiones'></a>\n",
    "\n",
    "## Conclusiones\n"
   ]
  },
  {
   "cell_type": "markdown",
   "metadata": {},
   "source": [
    "Volver al [*Índice*](#indice).\n",
    "\n",
    "<a id='referencias'></a>\n",
    "## Referencias\n",
    "\n",
    "<a id='Bird2009'></a>\n",
    "[1] *[Bird2009]* Steven Bird, Ewan Klain & Edward Loper,. \n",
    "Book **Natural Language Processing with Python**. 2009. \n",
    "p. 10 **ISBN**: 978-0-596-51649-9\n",
    "\n",
    "<a id='Luhn1958'></a>\n",
    "[2] *[Luhn1958]* H.P. Luhn. Paper **The Automatic Creation of Literature Abstract**. \n",
    "*IBM Journal*, 1958."
   ]
  },
  {
   "cell_type": "markdown",
   "metadata": {},
   "source": [
    "<a id='alphabetic_index'></a>\n",
    "## Índice Alfabético\n",
    "\n",
    "<a id='token'></a>\n",
    "**Token**: señal, indicio, muestra. Se usa generalmente para referirse a la unidad\n",
    "más pequeña de procesamiento: palabras, fonemas, n-grams, etc..\n",
    "\n",
    "\n",
    "Volver al [*Índice*](#indice)."
   ]
  }
 ],
 "metadata": {
  "kernelspec": {
   "display_name": "Python 3",
   "language": "python",
   "name": "python3"
  },
  "language_info": {
   "codemirror_mode": {
    "name": "ipython",
    "version": 3
   },
   "file_extension": ".py",
   "mimetype": "text/x-python",
   "name": "python",
   "nbconvert_exporter": "python",
   "pygments_lexer": "ipython3",
   "version": "3.6.8"
  }
 },
 "nbformat": 4,
 "nbformat_minor": 1
}
