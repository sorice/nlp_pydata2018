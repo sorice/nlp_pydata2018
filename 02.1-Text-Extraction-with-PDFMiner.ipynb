{
 "metadata": {
  "name": "",
  "signature": "sha256:e7f4596b81f4e4c2960647bf2946561a5233a82a32188d1b6e8c3631df70647a"
 },
 "nbformat": 3,
 "nbformat_minor": 0,
 "worksheets": [
  {
   "cells": [
    {
     "cell_type": "markdown",
     "metadata": {},
     "source": [
      "<small><i>This notebook was put together by [Abel Meneses-Abad](http://www.meneses-abad.com) for PyData Vancouver 2018. Source and license info is on [GitHub](https://github.com/sorice/nlp_pydata2018/).</i></small>"
     ]
    },
    {
     "cell_type": "markdown",
     "metadata": {},
     "source": [
      "#Subproceso de Parser de PDF a TXT#\n",
      "\n",
      "*C\u00f3digos elaborados con la versi\u00f3n 20110515 de PDFMiner en Ubuntu 12.04.*\n",
      "\n",
      "**Fecha de elaboraci\u00f3n inicial**: febrero de 2016\n",
      "**\u00daltima actualizaci\u00f3n**: enero de 2016\n",
      "\n",
      "#Resumen#\n",
      "\n",
      "El presente notebook tiene como objetivo presentar varios ejemplos de c\u00f3digo para la \n",
      "manipulaci\u00f3n de archivos PDF utilizando la biblioteca libre de python **PDFMiner**.\n",
      "Las versiones de los m\u00e9todos de programaci\u00f3n mostrados corresponden a la tarea de\n",
      "reconstruir la estructura l\u00f3gica de un documento PDF *no etiquetado* cuando este tiene\n",
      "dos o m\u00e1s columnas, como es el caso de los art\u00edculos cient\u00edficos, o archivos pdfs de\n",
      "la prensa y revistas. Los ejemplos son de los autores *Yusuke Shinyama (creador de\n",
      "PDFMiner), Denis Papathanasiou (colaboradorde PDFMiner) y Abel Meneses (autor del\n",
      "notebook e investigador de PLN)*. Al mismo tiempo y en secciones cortas al final de\n",
      "este material se incluyen otros consejos sobre apps o bibliotecas libres \u00fatiles para\n",
      "los que desean procesar PDFs con distintos objetivos: encriptar, portar de versi\u00f3n,\n",
      "obtener la informaci\u00f3n de cabecera, etc."
     ]
    },
    {
     "cell_type": "markdown",
     "metadata": {},
     "source": [
      "#\u00cdndice#\n",
      "<a id='indice'></a>\n",
      "\n",
      "[Extracci\u00f3n de Textos desde PDF con PDFMiner](#txtextraction_pdfminer)\n",
      "\n",
      "   - [Ejemplo Parser con PDFMiner](#ejemplo1) Ejemplo con clases y funciones bien explicadas.\n",
      "Esta primera soluci\u00f3n no ordena los textos correctamente cuando tienen m\u00e1s de una \n",
      "columna.\n",
      "      * [Parse Pages v1](#parse_pages2)\n",
      "      * [Parse LT Objs 2](#parse_lt_objs2)\n",
      "\n",
      "   - [Soluci\u00f3n 2](#Solucion2) Ordenamiento parcial de las columnas, incorrecto cuando\n",
      "longitudes en x no son correspondientes.\n",
      "      * [Parse LT Objs 2](#parse_lt_objs2)\n",
      "      * [Parse Pages v2](#parse_pages3)\n",
      "  \n",
      "   - [An\u00e1lisis final](#Solucion3) Ordenamiento satisfactorio utilizando x0,y0 de los \n",
      "TextBox.\n",
      "      * [Parse LT Objs 3](#parse_lt_objs3)\n",
      "      * [Parse Pages 3](#parse_pages4)\n",
      "\n",
      "[Conclusiones](#conclusiones)\n",
      "\n",
      "[Playfull Parsing with PDFMiner](#playfull_pdfminer)\n",
      "\n",
      "[Text Extraction at Any Price](#text_extraction)\n",
      "\n",
      "[How to make standar my PDF: QPDF](#QPDF)\n",
      "\n",
      "[Ejercicios](#Ejercicios)\n",
      "\n",
      "[Referencias](#referencias)\n",
      "\n",
      "[\u00cdndice Alfab\u00e9tico](#indice_alfabetico)\n",
      "\n",
      "Citas format[[1](#Bird2009)]"
     ]
    },
    {
     "cell_type": "markdown",
     "metadata": {},
     "source": [
      "<a id='txtextraction_pdfminer'></a>\n",
      "#Extracci\u00f3n de Textos con PDFMiner#\n",
      "\n",
      "Una tarea frecuente, y \u00fatil, es extraer la informaci\u00f3n textual contenida en un PDF.\n",
      "Generalmente esto es importante cuando se indexan materiales en un buscador, \n",
      "o cuando se desean cortar secciones espec\u00edficas de una serie de PDFs \n",
      "- d\u00edgase una secci\u00f3n X de una misma revista -, \n",
      "o cuando se desea procesar textos ya archivados como tesis, libros, etc para\n",
      "reutilizar esta informaci\u00f3n en tareas de NLP como clasificaci\u00f3n de archivos en t\u00f3picos,\n",
      "o estudio de citas, etc.\n",
      "En todos estos casos la **recuperaci\u00f3n confiable** del contenido del documento PDF es\n",
      "esencial para lograr el objetivo con eficacia.\n",
      "\n",
      "Es importante saber desde el principio, que aunque el formato PDF se ha establecido\n",
      "como estandar m\u00e1s utilizado de documentos para portar informaci\u00f3n de un sistema\n",
      "operativo a otro, este tiene muchas carencias hasta su versi\u00f3n 1.4, a\u00fan hoy muy \n",
      "utilizada. La existencia de PDFs sin un etiquetado amplio, carentes de informaci\u00f3n\n",
      "adicional para extraer *ep\u00edgrafes, cap\u00edtulos, anexos, tablas, bibliograf\u00eda, etc* da\n",
      "origen a la elaboraci\u00f3n de este material."
     ]
    },
    {
     "cell_type": "markdown",
     "metadata": {},
     "source": [
      "<a id='ejemplo1'></a>\n",
      "</br>\n",
      "##Ejemplo Parser con PDFMiner##\n",
      "\n",
      "Programando la extracci\u00f3n de textos de un PDF con la biblioteca de python: PDFMiner.\n",
      "\n",
      "[HTML original en un archivo local](./htmls/2.1/Extracting_Text_and_Images_from_PDF_Files/index.html)\n",
      ", tomado de [URL en Internet](http://denis.papathanasiou.org/posts/2010.08.04.post.html)"
     ]
    },
    {
     "cell_type": "code",
     "collapsed": true,
     "input": [
      "from pdfminer.pdfparser import PDFParser, PDFDocument, PDFNoOutlines\n",
      "from pdfminer.pdfinterp import PDFResourceManager, PDFPageInterpreter\n",
      "from pdfminer.converter import PDFPageAggregator\n",
      "from pdfminer.layout import LAParams, LTTextBox, LTTextLine, LTFigure, LTImage"
     ],
     "language": "python",
     "metadata": {},
     "outputs": [],
     "prompt_number": 1
    },
    {
     "cell_type": "code",
     "collapsed": true,
     "input": [
      "def with_pdf (pdf_doc, pdf_pwd, fn, *args):\n",
      "    \"\"\"Open the pdf document, and apply the function, returning the results\"\"\"\n",
      "    result = None\n",
      "    try:\n",
      "        # open the pdf file\n",
      "        fp = open(pdf_doc, 'rb')\n",
      "        # create a parser object associated with the file object\n",
      "        parser = PDFParser(fp)\n",
      "        # create a PDFDocument object that stores the document structure\n",
      "        doc = PDFDocument()\n",
      "        # connect the parser and document objects\n",
      "        parser.set_document(doc)\n",
      "        doc.set_parser(parser)\n",
      "        # supply the password for initialization\n",
      "        doc.initialize(pdf_pwd)\n",
      "\n",
      "        if doc.is_extractable:\n",
      "            # apply the function and return the result\n",
      "            result = fn(doc, *args)\n",
      "\n",
      "        # close the pdf file\n",
      "        fp.close()\n",
      "    except IOError:\n",
      "        # the file doesn't exist or similar problem\n",
      "        pass\n",
      "    return result"
     ],
     "language": "python",
     "metadata": {},
     "outputs": [],
     "prompt_number": 2
    },
    {
     "cell_type": "code",
     "collapsed": true,
     "input": [
      "def _parse_toc (doc):\n",
      "    \"\"\"With an open PDFDocument object, get the table of contents (toc) data\n",
      "    [this is a higher-order function to be passed to with_pdf()]\"\"\"\n",
      "    toc = []\n",
      "    try:\n",
      "        outlines = doc.get_outlines()\n",
      "        for (level,title,dest,a,se) in outlines:\n",
      "            toc.append( (level, title) )\n",
      "    except PDFNoOutlines:\n",
      "        pass\n",
      "    return toc"
     ],
     "language": "python",
     "metadata": {},
     "outputs": [],
     "prompt_number": 3
    },
    {
     "cell_type": "code",
     "collapsed": true,
     "input": [
      "def get_toc (pdf_doc, pdf_pwd=''):\n",
      "    \"\"\"Return the table of contents (toc), if any, for this pdf file\"\"\"\n",
      "    return with_pdf(pdf_doc, pdf_pwd, _parse_toc)"
     ],
     "language": "python",
     "metadata": {},
     "outputs": [],
     "prompt_number": 4
    },
    {
     "cell_type": "markdown",
     "metadata": {},
     "source": [
      "Breve ejemplo que muestra, como en el fichero *txtfield.pdf* contiene los bookmarks:\n",
      "*Introduction, Referencing the PDF Reference Manual* and *Text State Operators*."
     ]
    },
    {
     "cell_type": "code",
     "collapsed": false,
     "input": [
      "get_toc('test/2.1/txtfield.pdf')"
     ],
     "language": "python",
     "metadata": {},
     "outputs": [
      {
       "metadata": {},
       "output_type": "pyout",
       "prompt_number": 5,
       "text": [
        "[(1, u'Introduction'),\n",
        " (1, u'Referencing the PDF Reference Manual'),\n",
        " (1, u'Text State Operators')]"
       ]
      }
     ],
     "prompt_number": 5
    },
    {
     "cell_type": "markdown",
     "metadata": {},
     "source": [
      "Sin embargo nuestro objetivo es extraer la informaci\u00f3n de las p\u00e1ginas. El siguiente\n",
      "m\u00e9todo extrae la **estructura, esquema o \u00e1rbol** de cada p\u00e1gina del PDF cargado.\n",
      "Similar a la imagen de la Figura 1.\n",
      "\n",
      "<img src=\"imgs/2.1/layout.png\" alt=\"*\" align=\"center\">\n",
      "<p><caption align=\"bottom\"> </br><em>Figura 1: Objetos layout y su estructura de \u00e1rbol.</em></caption> \n",
      "\n",
      "<p><strong>Nota:</strong> Imagen original de Yusuke Shinyama en \n",
      "<a href=\"http://www.unixuser.org/~euske/python/pdfminer/programming.html\" \n",
      "        title=\"Programming with PDFMiner\"> PDFMiner Official Documentation</a>\n",
      "\n",
      "Puedes consultar el [HTML original en un archivo local](./htmls/2.1/Programming_with_PDFMiner/index.html)\n",
      "donde aparece la imagen mostrada.\n",
      "\n",
      "<a id='parse_pages1'></a>\n",
      "</br>\n",
      "###Parse Pages v1###\n",
      "\n",
      "Implementemos pues un m\u00e9todo para extraer los layouts."
     ]
    },
    {
     "cell_type": "code",
     "collapsed": true,
     "input": [
      "def _parse_pages (doc):\n",
      "    \"\"\"With an open PDFDocument object, get the pages and parse each one\n",
      "    [this is a higher-order function to be passed to with_pdf()]\"\"\"\n",
      "    rsrcmgr = PDFResourceManager()\n",
      "    laparams = LAParams()\n",
      "    device = PDFPageAggregator(rsrcmgr, laparams=laparams)\n",
      "    interpreter = PDFPageInterpreter(rsrcmgr, device)\n",
      "\n",
      "    for page in doc.get_pages():\n",
      "        interpreter.process_page(page)\n",
      "        # receive the LTPage object for this page\n",
      "        layout = device.get_result()\n",
      "        # layout is an LTPage object which may contain \n",
      "        # child objects like LTTextBox, LTFigure, LTImage, etc."
     ],
     "language": "python",
     "metadata": {},
     "outputs": [],
     "prompt_number": 6
    },
    {
     "cell_type": "code",
     "collapsed": true,
     "input": [
      "def get_pages (pdf_doc, pdf_pwd=''):\n",
      "    \"\"\"Process each of the pages in this pdf file\"\"\"\n",
      "    with_pdf(pdf_doc, pdf_pwd, _parse_pages)"
     ],
     "language": "python",
     "metadata": {},
     "outputs": [],
     "prompt_number": 7
    },
    {
     "cell_type": "code",
     "collapsed": true,
     "input": [
      "result = get_pages('test/2.1/paper2column.pdf')"
     ],
     "language": "python",
     "metadata": {},
     "outputs": [],
     "prompt_number": 8
    },
    {
     "cell_type": "code",
     "collapsed": false,
     "input": [
      "print result"
     ],
     "language": "python",
     "metadata": {},
     "outputs": [
      {
       "output_type": "stream",
       "stream": "stdout",
       "text": [
        "None"
       ]
      }
     ],
     "prompt_number": 9
    },
    {
     "cell_type": "markdown",
     "metadata": {},
     "source": [
      "Volver al [*\u00cdndice*](#indice).\n",
      "\n",
      "<a id='parse_pages2'></a>\n",
      "</br>\n",
      "###Parse Pages v1b###\n",
      "\n",
      "Una versi\u00f3n 2 ampliada del *\\_parse\\_pages* para extraer tambi\u00e9n los textos dentro de\n",
      "los objetos que son TextBox."
     ]
    },
    {
     "cell_type": "code",
     "collapsed": true,
     "input": [
      "def _parse_pages (doc, images_folder):\n",
      "    \"\"\"With an open PDFDocument object, get the pages, parse each one,\n",
      "    and return the entire text\n",
      "    [this is a higher-order function to be passed to with_pdf()]\"\"\"\n",
      "    rsrcmgr = PDFResourceManager()\n",
      "    laparams = LAParams()\n",
      "    device = PDFPageAggregator(rsrcmgr, laparams=laparams)\n",
      "    interpreter = PDFPageInterpreter(rsrcmgr, device)\n",
      "\n",
      "    # a list of strings, each representing text collected from each page of the doc\n",
      "    text_content = []\n",
      "    for i, page in enumerate(doc.get_pages()):\n",
      "        interpreter.process_page(page)\n",
      "        # receive the LTPage object for this page\n",
      "        layout = device.get_result()\n",
      "        # layout is an LTPage object which may contain \n",
      "        # child objects like LTTextBox, LTFigure, LTImage, etc.\n",
      "        text_content.append(parse_lt_objs(layout, (i+1), images_folder))\n",
      "\n",
      "    return text_content"
     ],
     "language": "python",
     "metadata": {},
     "outputs": [],
     "prompt_number": 10
    },
    {
     "cell_type": "markdown",
     "metadata": {},
     "source": [
      "en la l\u00ednea:\n",
      "\n",
      "    layout = device.get_result()\n",
      "\n",
      "se obtienen los objetos o segmentos que\n",
      "contienen las etiquetas del PDF. El problema puntual de este, como puede comprobarse\n",
      "parseando cualquier pdf que teng\u00e1is a mano, es que dichas etiquetas suelen salir de\n",
      "forma desordenada de acuerdo a la complejidad del texto. Fundamentalmente este problema\n",
      "es grave en PDFs de 2, 3 o m\u00e1s columnas, o de formas heterog\u00e9neas como es el caso de los\n",
      "peri\u00f3dicos y revistas llevados a formato impreso."
     ]
    },
    {
     "cell_type": "code",
     "collapsed": true,
     "input": [
      "def get_pages (pdf_doc, pdf_pwd='', images_folder='tmp'):\n",
      "    \"\"\"Process each of the pages in this pdf file and print the entire text to stdout\"\"\"\n",
      "    return '\\n\\n'.join(with_pdf(pdf_doc, pdf_pwd, _parse_pages, *tuple([images_folder])))"
     ],
     "language": "python",
     "metadata": {},
     "outputs": [],
     "prompt_number": 11
    },
    {
     "cell_type": "markdown",
     "metadata": {},
     "source": [
      "La funci\u00f3n siguiente resuelve cualquier problema de codificaci\u00f3n.\n",
      "Es importante destacar que cualquier objeto *str* solo permite codificaci\u00f3n ASCII.\n",
      "Intente probar 'cadena'.encode('utf8') y comprender\u00e1 el error."
     ]
    },
    {
     "cell_type": "code",
     "collapsed": true,
     "input": [
      "def to_bytestring (s, enc='utf8'):\n",
      "    \"\"\"Convert the given unicode string to a bytestring, using the standard encoding,\n",
      "    unless it's already a bytestring\"\"\"\n",
      "    if s:\n",
      "        if isinstance(s, str):\n",
      "            return s\n",
      "        else:\n",
      "            return s.encode(enc)"
     ],
     "language": "python",
     "metadata": {},
     "outputs": [],
     "prompt_number": 12
    },
    {
     "cell_type": "markdown",
     "metadata": {},
     "source": [
      "<a id='parse_lt_objs1'></a>\n",
      "</br>\n",
      "###Parse LT Objs 1###\n",
      "\n",
      "Una 1ra versi\u00f3n del *parse\\_lt\\_objs* para extraer todos los objetos textos, figuras \n",
      "e im\u00e1genes."
     ]
    },
    {
     "cell_type": "code",
     "collapsed": true,
     "input": [
      "def parse_lt_objs (lt_objs, page_number, images_folder, text=[]):\n",
      "    \"\"\"Iterate through the list of LT* objects and capture the text or image data contained in each\"\"\"\n",
      "    text_content = [] \n",
      "\n",
      "    for lt_obj in lt_objs:\n",
      "        if isinstance(lt_obj, LTTextBox) or isinstance(lt_obj, LTTextLine):\n",
      "            # text\n",
      "            text_content.append(to_bytestring(lt_obj.get_text()))\n",
      "        elif isinstance(lt_obj, LTImage):\n",
      "            # an image, so save it to the designated folder, and note it's place in the text \n",
      "            saved_file = save_image(lt_obj, page_number, images_folder)\n",
      "            if saved_file:\n",
      "                # use html style <img /> tag to mark the position of the image within the text\n",
      "                text_content.append('<img src=\"'+os.path.join(images_folder, saved_file)+'\" />')\n",
      "            else:\n",
      "                print >> sys.stderr, \"Error saving image on page\", page_number, lt_obj.__repr__\n",
      "        elif isinstance(lt_obj, LTFigure):\n",
      "            # LTFigure objects are containers for other LT* objects, so recurse through the children\n",
      "            text_content.append(parse_lt_objs(lt_obj.objs, page_number, images_folder, text_content))\n",
      "\n",
      "    return '\\n'.join(text_content)"
     ],
     "language": "python",
     "metadata": {},
     "outputs": [],
     "prompt_number": 13
    },
    {
     "cell_type": "code",
     "collapsed": true,
     "input": [
      "txt = open('test/2.1/text_content.txt','w')\n",
      "txt.write(str(get_pages('test/2.1/paper2column.pdf')))\n",
      "txt.close()"
     ],
     "language": "python",
     "metadata": {},
     "outputs": [],
     "prompt_number": 14
    },
    {
     "cell_type": "markdown",
     "metadata": {},
     "source": [
      "Esta soluci\u00f3n tiene un problema como se ha explicado la devoluci\u00f3n desordenada\n",
      "de los objetos por la funci\u00f3n _parse_page nos dar\u00e1 un texto que contiene errores\n",
      "estructurales.\n",
      "\n",
      "Volver al [*\u00cdndice*](#indice).\n",
      "\n",
      "<a id='Solucion2'></a>\n",
      "</br>\n",
      "##Soluci\u00f3n 2##\n",
      "**Implementando un organizador de etiquetas seg\u00fan su posici\u00f3n en x y longitud en x.**\n",
      "\n",
      "Autor: Denis Papathanasiou"
     ]
    },
    {
     "cell_type": "code",
     "collapsed": true,
     "input": [
      "def update_page_text_hash (h, lt_obj, pct=0.2):\n",
      "    \"\"\"Use the bbox x0,x1 values within pct% to produce lists of associated \n",
      "    text within the hash\"\"\"\n",
      "    \n",
      "    x0 = lt_obj.bbox[0]\n",
      "    x1 = lt_obj.bbox[2]\n",
      "    key_found = False\n",
      "    for k, v in h.items():\n",
      "        hash_x0 = k[0]\n",
      "        if x0 >= (hash_x0 * (1.0-pct)) and (hash_x0 * (1.0+pct)) >= x0:\n",
      "            hash_x1 = k[1]\n",
      "            if x1 >= (hash_x1 * (1.0-pct)) and (hash_x1 * (1.0+pct)) >= x1:\n",
      "                # the text inside this LT* object was positioned at the same\n",
      "                # width as a prior series of text, so it belongs together\n",
      "                key_found = True\n",
      "                v.append(to_bytestring(lt_obj.get_text()))\n",
      "                h[k] = v\n",
      "    if not key_found:\n",
      "        # the text, based on width, is a new series,\n",
      "        # so it gets its own series (entry in the hash)\n",
      "        h[(x0,x1)] = [to_bytestring(lt_obj.get_text())]\n",
      "    return h"
     ],
     "language": "python",
     "metadata": {},
     "outputs": [],
     "prompt_number": 15
    },
    {
     "cell_type": "markdown",
     "metadata": {},
     "source": [
      "<a id='parse_lt_objs2'></a>\n",
      "</br>\n",
      "###Parse LT Objs 2###"
     ]
    },
    {
     "cell_type": "code",
     "collapsed": true,
     "input": [
      "def parse_lt_objs2 (lt_objs, page_number, images_folder, text=[]):\n",
      "    \"\"\"Iterate through the list of LT* objects and capture the text or image data contained in each\"\"\"\n",
      "    text_content = [] \n",
      "\n",
      "    page_text = {} # k=(x0, x1) of the bbox, v=list of text strings within that bbox width (physical column)\n",
      "    for lt_obj in lt_objs:\n",
      "        #text_content.append(str(lt_obj)+'-')\n",
      "        if isinstance(lt_obj, LTTextBox) or isinstance(lt_obj, LTTextLine):\n",
      "            # text, so arrange is logically based on its column width\n",
      "            page_text = update_page_text_hash(page_text, lt_obj)\n",
      "        elif isinstance(lt_obj, LTImage):\n",
      "            # an image, so save it to the designated folder, and note it's place in the text \n",
      "            saved_file = save_image(lt_obj, page_number, images_folder)\n",
      "            if saved_file:\n",
      "                # use html style <img /> tag to mark the position of the image within the text\n",
      "                text_content.append('<img src=\"'+os.path.join(images_folder, saved_file)+'\" />')\n",
      "            else:\n",
      "                print >> sys.stderr, \"error saving image on page\", page_number, lt_obj.__repr__\n",
      "        elif isinstance(lt_obj, LTFigure):\n",
      "            # LTFigure objects are containers for other LT* objects, so recurse through the children\n",
      "            text_content.append(parse_lt_objs(lt_obj.objs, page_number, images_folder, text_content))\n",
      "\n",
      "    for k, v in sorted([(key,value) for (key,value) in page_text.items()]):\n",
      "        # sort the page_text hash by the keys (x0,x1 values of the bbox),\n",
      "        # which produces a top-down, left-to-right sequence of related columns\n",
      "        text_content.append('\\n'.join(v))\n",
      "\n",
      "    return '\\n'.join(text_content)"
     ],
     "language": "python",
     "metadata": {},
     "outputs": [],
     "prompt_number": 16
    },
    {
     "cell_type": "markdown",
     "metadata": {},
     "source": [
      "<a id='parse_pages3'></a>\n",
      "</br>\n",
      "###Parse Pages v2###"
     ]
    },
    {
     "cell_type": "code",
     "collapsed": true,
     "input": [
      "def _parse_pages2 (doc, images_folder):\n",
      "    \"\"\"With an open PDFDocument object, get the pages, parse each one, and return the entire text\n",
      "    [this is a higher-order function to be passed to with_pdf()]\"\"\"\n",
      "    rsrcmgr = PDFResourceManager()\n",
      "    laparams = LAParams()\n",
      "    device = PDFPageAggregator(rsrcmgr, laparams=laparams)\n",
      "    interpreter = PDFPageInterpreter(rsrcmgr, device)\n",
      "\n",
      "    text_content = [] # a list of strings, each representing text collected from each page of the doc\n",
      "    for i, page in enumerate(doc.get_pages()):\n",
      "        interpreter.process_page(page)\n",
      "        # receive the LTPage object for this page\n",
      "        layout = device.get_result()\n",
      "        # layout is an LTPage object which may contain child objects like LTTextBox, LTFigure, LTImage, etc.\n",
      "        text_content.append(parse_lt_objs2(layout, (i+1), images_folder))\n",
      "\n",
      "    return text_content\n",
      "\n",
      "def get_pages2 (pdf_doc, pdf_pwd='', images_folder='tmp'):\n",
      "    \"\"\"Process each of the pages in this pdf file and print the entire text to stdout\"\"\"\n",
      "    return '\\n\\n'.join(with_pdf(pdf_doc, pdf_pwd, _parse_pages2, *tuple([images_folder])))\n",
      "\n",
      "txt = open('test/2.1/text_content2.txt','w')\n",
      "txt.write(str(get_pages2('test/2.1/paper2column.pdf')))\n",
      "txt.close()"
     ],
     "language": "python",
     "metadata": {},
     "outputs": [],
     "prompt_number": 17
    },
    {
     "cell_type": "markdown",
     "metadata": {},
     "source": [
      "Como se puede observar esta soluci\u00f3n mejora el resultado. Pero particularmente en el \n",
      "ejemplo *\"test/paper2column.pdf\"*, p.2, la secci\u00f3n *VI.  CIRCUMSTANCES OF PLAGIARISM* \n",
      "queda muy mal posicionada debido a una irregularidad en las secciones."
     ]
    },
    {
     "cell_type": "markdown",
     "metadata": {},
     "source": [
      "<style>\n",
      "<!--\n",
      "P.equacion {font.family: Symbol; text-a1 ig: center)\n",
      "-->\n",
      "</style>\n",
      "\n",
      "<center><strong>Relacionado con la estructura del etiquetado PDF</strong></center></br>\n",
      "<table border=0 cellspacing=10> \n",
      "    <caption align=\"bottom\"> </br><em>Figura 2: Ejemplo visual de las etiquetas \n",
      "    contenidas dentro de un pdf.</em>\n",
      "    </caption> \n",
      "<tr align=\"center\">\n",
      "<th> <img src=\"imgs/2.1/Real_pdf_LTTextBox_scheme_min.png\" alt=\"*\" \n",
      "        align=\"center\"> </th>\n",
      "    <th> </th>\n",
      "    <td> \n",
      "        <p>S\u00ed en <strong>parse_lt_obj</strong> se descomenta la l\u00ednea: <br><br>\n",
      "\n",
      "            <center><code>ext_content.append(str(lt_obj)+'-'</code></center></p>\n",
      "        \n",
      "        <p>se pueden imprimir los textos con sus respectivos objetos. Ah\u00ed notar\u00e1n que \n",
      "            los lt_obj contienen un bbox con la estructura (x0,y0,x1,y1) que definen \n",
      "            un box o cuadro de texto. Donde: \n",
      "        <p>x0 < x1 (izq-derecha) & y0 < y1 (bottom-top) \n",
      "        <p> Generalmente hacia arriba como se muestra en el cuadro A. Y en particular \n",
      "            se pueden dar casos de solapamiento como B y C (est\u00e1 compuesto en el orden \n",
      "            mostrado solo por los sub-textos C1,C2, y C3). Esta es la raz\u00f3n de la \n",
      "            salida con problemas, entre otros. Los cuadros son segmentos reales.</p>\n",
      "    </td>\n",
      "</tr>\n",
      "</table>\n",
      "    \n",
      "Volver al [*\u00cdndice*](#indice)."
     ]
    },
    {
     "cell_type": "markdown",
     "metadata": {},
     "source": [
      "<a id='Solucion3'></a>\n",
      "##Soluci\u00f3n 3 An\u00e1lisis Final##\n",
      "**Implementando un organizador de etiquetas seg\u00fan su posici\u00f3n en x0,y0**\n",
      "\n",
      "Autor: Abel Meneses\n",
      "\n",
      "**Breve descripci\u00f3n del problema:** Se trata de organizar autom\u00e1ticamente los textos de \n",
      "acuerdo a su posici\u00f3n en x de menor a mayor (o sea de izquierda a derecha), pero \n",
      "identificando la existencia de columnas o grupos verticales; y luego organizar cada \n",
      "grupo por su **y0** de mayor a menor (o sea de arriba hacia abajo)."
     ]
    },
    {
     "cell_type": "code",
     "collapsed": true,
     "input": [
      "def update_page_text_hash (h, lt_obj):\n",
      "    \"\"\"Use the bbox x0,y0 values to produce a structured dict without\n",
      "    any order yet\"\"\"\n",
      "    \n",
      "    x0 = lt_obj.bbox[0]\n",
      "    y0 = lt_obj.bbox[1]\n",
      "    \n",
      "    k = len(h)\n",
      "    text = to_bytestring(lt_obj.get_text())\n",
      "    #I will filter de shortest boxtext like page-number, ISSN, uper-title, etc\n",
      "    if len(text) > 110:\n",
      "        h[k] = (x0,y0,text)\n",
      "    return h"
     ],
     "language": "python",
     "metadata": {},
     "outputs": [],
     "prompt_number": 18
    },
    {
     "cell_type": "markdown",
     "metadata": {},
     "source": [
      "En la funci\u00f3n **update\\_page\\_text\\_hash** solo se genera un diccionario con los puntos \n",
      "(x0,y0) y como 3er elemento de la tupla el texto obtenido del objeto del \u00e1rbol del PDF."
     ]
    },
    {
     "cell_type": "markdown",
     "metadata": {},
     "source": [
      "\n",
      "\n",
      "Luego son ordenados por las x, y utilizando una t\u00e1ctica de crear grupos con las x que\n",
      "se diferencien de otras en solo 15\u00b0 (*ver Figura 3*). Este valor (15\u00b0) se obtuvo de forma experimental.\n",
      "**Importante**: *un objetivo de este algoritmo era no utilizar complejas bibliotecas de\n",
      "clustering u ordenamiento.* "
     ]
    },
    {
     "cell_type": "markdown",
     "metadata": {},
     "source": [
      "\n",
      "<center><strong>Visi\u00f3n general del ardid matem\u00e1tico empleado.</strong></center></br>\n",
      "<table border=0 cellspacing=10> \n",
      "    <caption align=\"bottom\"> </br><em>Figura 3: Algoritmo de clustering en columnas de \n",
      "    los PDF box utilizando los valores de x0,y0.</em>\n",
      "    </caption> \n",
      "<tr align=\"center\">\n",
      "<th> <img src=\"imgs/2.1/sameAngle_PDF-box_clustering_min.png\" alt=\"*\" \n",
      "        align=\"center\"> </th>\n",
      "    <th> </th>\n",
      "    <td> \n",
      "        <p>En la 3ra versi\u00f3n de <strong>parse_lt_obj</strong> se agrega un segmento que\n",
      "            utiliza la funci\u00f3n <strong>sen(x)</strong>: <br><br>\n",
      "            \n",
      "            $$\\sin(\\alpha)=\\frac{(x_{0B}-x_{0A})}{\\sqrt{(y_{0B}-y_{0A})^{2}+(x_{0B}-x_{0A})^{2}}}$$\n",
      "        </p>\n",
      "        \n",
      "        <p>Se puede observar que el \u00e1ngulo  <strong><em>alfa</em></strong>  entre \n",
      "            los puntos A y B, s\u00ed est\u00e1n \n",
      "            en la misma columna, es un \u00e1ngulo peque\u00f1o. Se utilizan los lados del\n",
      "            tri\u00e1ngulo formado por las proyecciones para ilustrar la ecuaci\u00f3n del seno.\n",
      "        <p> El \u00e1ngulo <strong><em>beta</em></strong> entre los puntos B y D, ubicados \n",
      "            en columnas diferentes, es mucho mayor. \n",
      "        <p><strong>Nota:</strong> <em>este \n",
      "            proceso de c\u00e1lculo se hace despu\u00e9s de ordenar las <strong>x0</strong>, y en el algoritmo se\n",
      "            comparan cada punto n vs n+1, por lo tanto est\u00e1 garantizado que la \n",
      "            situaci\u00f3n B vs D ocurre entre puntos que generan un \u00e1ngulo entre 30\u00b0 y 90\u00b0\n",
      "            de acuerdo a la relaci\u00f3n que hay entre el largo y el ancho de una hoja\n",
      "            utilizada en los PDFs de textos.</em> </p>\n",
      "    </td>\n",
      "</tr>\n",
      "</table>\n",
      "\n",
      "Volver al [*\u00cdndice*](#indice).\n",
      "\n",
      "<a id='parse_lt_objs3'></a>\n",
      "</br>\n",
      "###Parse LT Objs 3###"
     ]
    },
    {
     "cell_type": "code",
     "collapsed": true,
     "input": [
      "from math import sqrt\n",
      "\n",
      "def parse_lt_objs3 (lt_objs, page_number, images_folder, text=[]):\n",
      "    \"\"\"Iterate through the list of LT* objects and capture the text or image data contained in each\"\"\"\n",
      "    text_content = [] \n",
      "\n",
      "    page_text = {} # k=(x0, x1) of the bbox, v=list of text strings within that bbox width (physical column)\n",
      "    for lt_obj in lt_objs:\n",
      "        #text_content.append(str(page_number)+str(lt_obj)+'-')\n",
      "        if isinstance(lt_obj, LTTextBox) or isinstance(lt_obj, LTTextLine):\n",
      "            # get x0,y0,text in page_text dictionary\n",
      "            page_text = update_page_text_hash(page_text, lt_obj)\n",
      "\n",
      "    pt, k = page_text, []\n",
      "    \n",
      "    for i in pt:\n",
      "        k.append(pt[i])\n",
      "    #Ordering taking into account x value from min to max.\n",
      "    k.sort()\n",
      "    \n",
      "    ant = (k[0][0],0) #will keep the last x,y checked\n",
      "    g = 1;group = {}\n",
      "    \n",
      "    #Order gropus of x by major y\n",
      "    for i in range(len(k)):\n",
      "        #math sen formula of a triangle angle: opose side over left side.\n",
      "        sen = float(k[i][0]-ant[0])/(sqrt((k[i][1]-ant[1])**2+(k[i][0]-ant[0])**2)+1)\n",
      "        \n",
      "        if sen < 0.25: #if angle < 15\u00b0, or same column\n",
      "            group[g],ant = cluster(group,g,i,k)\n",
      "        \n",
      "        else: #not in same column\n",
      "            g += 1 #add new group\n",
      "            group[g],ant = cluster(group,g,i,k)\n",
      "      \n",
      "    #Order every group based on y0 from max to min\n",
      "    for i in group.keys():\n",
      "        L = group[i]\n",
      "        L.sort(reverse=True)\n",
      "        group[i] = L\n",
      "        \n",
      "    for i in group.keys():\n",
      "        for j in range(len(group[i])):\n",
      "            text_content.append(''.join(group[i][j][2]))\n",
      "\n",
      "    return '\\n'.join(text_content)"
     ],
     "language": "python",
     "metadata": {},
     "outputs": [],
     "prompt_number": 24
    },
    {
     "cell_type": "markdown",
     "metadata": {},
     "source": [
      "M\u00e9todo auxiliar par reducir c\u00f3digo en la funci\u00f3n **parse\\_lt\\_objs3**."
     ]
    },
    {
     "cell_type": "code",
     "collapsed": true,
     "input": [
      "def cluster(group, g, i, k):\n",
      "    if g in group.keys():\n",
      "        temp = group[g]\n",
      "        temp.append((k[i][1],k[i][0],k[i][2]))\n",
      "    else: temp = [(k[i][1],k[i][0],k[i][2])]\n",
      "    return temp, (k[i][0],k[i][1])"
     ],
     "language": "python",
     "metadata": {},
     "outputs": [],
     "prompt_number": 25
    },
    {
     "cell_type": "markdown",
     "metadata": {},
     "source": [
      "Ahora corremos el algoritmo, utilizando funciones actualizadas para este ejemplo del\n",
      "**\\_parse\\_pages** y **get\\_pages**.\n",
      "\n",
      "<a id='parse_pages4'></a>\n",
      "</br>\n",
      "###Parse Pages v3###"
     ]
    },
    {
     "cell_type": "code",
     "collapsed": true,
     "input": [
      "def _parse_pages3 (doc, images_folder):\n",
      "    \"\"\"With an open PDFDocument object, get the pages, parse each one, and return the entire text\n",
      "    [this is a higher-order function to be passed to with_pdf()]\"\"\"\n",
      "    rsrcmgr = PDFResourceManager()\n",
      "    laparams = LAParams()\n",
      "    device = PDFPageAggregator(rsrcmgr, laparams=laparams)\n",
      "    interpreter = PDFPageInterpreter(rsrcmgr, device)\n",
      "\n",
      "    text_content = [] # a list of strings, each representing text collected from each page of the doc\n",
      "    for i, page in enumerate(doc.get_pages()):\n",
      "        interpreter.process_page(page)\n",
      "        # receive the LTPage object for this page\n",
      "        layout = device.get_result()\n",
      "        # layout is an LTPage object which may contain child objects like LTTextBox, LTFigure, LTImage, etc.\n",
      "        text_content.append(parse_lt_objs3(layout, (i+1), images_folder))\n",
      "\n",
      "    return text_content\n",
      "\n",
      "def get_pages3 (pdf_doc, pdf_pwd='', images_folder='tmp'):\n",
      "    \"\"\"Process each of the pages in this pdf file and print the entire text to stdout\"\"\"\n",
      "    return '\\n\\n'.join(with_pdf(pdf_doc, pdf_pwd, _parse_pages3, *tuple([images_folder])))\n",
      "\n",
      "txt = open('test/2.1/text_content3.txt','w')\n",
      "txt.write(str(get_pages3('test/2.1/paper2column.pdf')))\n",
      "txt.close()"
     ],
     "language": "python",
     "metadata": {},
     "outputs": [],
     "prompt_number": 26
    },
    {
     "cell_type": "markdown",
     "metadata": {},
     "source": [
      "Volver al [*\u00cdndice*](#indice).\n",
      "\n",
      "<a id='conclusiones'></a>\n",
      "</br>\n",
      "#Conclusiones#\n",
      "\n",
      "El resultado es genial tras unas 12.5h de desarrollo y testing. Y tras una semana de\n",
      "buscar un dise\u00f1o coherente.\n",
      "El valor de $sin(\\alpha) \\leq$ 0.25, \u00f3 $\\alpha \\leq$ 15\u00b0, funciona mejor en los \n",
      "resultados de ambos documentos. \n",
      "Esta es la 3ra versi\u00f3n de este algoritmo que baj\u00f3 de 97 l\u00edneas a 57 y una funci\u00f3n \n",
      "auxiliar de 6. Total 63 LOC.\n",
      "\n",
      "Los problemas finales que puede haber se deben a una generaci\u00f3n defectuosa del PDF.\n",
      "Esto se corrige utilizando herramientas que generen PDFs etiquetados en su estandar\n",
      "1.7, que permite guardar las etiquetas del documento.\n",
      "\n",
      "Volver al [*\u00cdndice*](#indice)."
     ]
    },
    {
     "cell_type": "markdown",
     "metadata": {},
     "source": [
      "<a id='homework'></a>\n",
      "</br>\n",
      "#Homework#\n",
      "\n",
      "Este es el art\u00edculo original del creador de PDFMiner Yusuke Shinyama. Sin embargo es\n",
      "importante saber que los c\u00f3digos est\u00e1n orientados a la versi\u00f3n actual(2015) de PDFMiner\n",
      "y que por lo tanto los m\u00f3dulos y m\u00e9todos de PDFMiner utilizados en el ejemplo de \n",
      "an\u00e1lisis son distintos a estos.\n",
      "\n",
      "[URL en Internet](http://www.unixuser.org/~euske/python/pdfminer/programming.html)\n",
      ", y [HTML original en un archivo local](./htmls/2.1/Programming_with_PDFMiner/index.html).\n",
      "\n",
      "Volver al [*\u00cdndice*](#indice)."
     ]
    },
    {
     "cell_type": "markdown",
     "metadata": {},
     "source": [
      "<a id='playfull_pdfminer'></a>\n",
      "</br>\n",
      "#Playfull Parsing with PDFMiner#\n",
      "\n",
      "Este ejemplo nos permite parsear una tonelada de PDFs y buscar cierta informaci\u00f3n en \u00e9l.\n",
      "En particular el ejemplo est\u00e1 elaborado para extraer la fecha de los informes escrita\n",
      "dentro de ellos y no en la cabecera. Esto permite identificar en una serie de documentos\n",
      "cuales tengo y cuales me faltan por su fecha.\n",
      "\n",
      "[URL en Internet](https://quantcorner.wordpress.com/2014/03/16/parsing-pdf-files-with-python-and-pdfminer/)\n",
      ", y [HTML original en un archivo local](./htmls/2.1/Parsing_pdf_files_with_Python_and_PDFMiner_-_Quant_Corner/index.html).\n",
      "\n",
      "Volver al [*\u00cdndice*](#indice)."
     ]
    },
    {
     "cell_type": "markdown",
     "metadata": {},
     "source": [
      "<a id='text_extraction'></a>\n",
      "</br>\n",
      "#Text Extraction at Any Price#\n",
      "\n",
      "\u00bfY si PDFMiner no puede leer el PDF?\n",
      "Pues bien si esto ocurre puede utilizar la biblioteca python-textract. Esta lib contiene\n",
      "m\u00e9todos para leer los PDFs incluso utilizando TSERACT y PDFMiner para cada situaci\u00f3n \n",
      "adecuadamente. El autor de este notebook les recomienda el material linkeado a \n",
      "continuaci\u00f3n.\n",
      "\n",
      "[URL en Internet](http://textract.readthedocs.org/en/latest/python_package.html),\n",
      "y [HTML original en un archivo local](./htmls/2.1/Python_package_textract_140_documentation/index.html)\n",
      "    \n",
      "Volver al [*\u00cdndice*](#indice)."
     ]
    },
    {
     "cell_type": "markdown",
     "metadata": {},
     "source": [
      "<a id='QPDF'></a>\n",
      "</br>\n",
      "#How to make standar my PDF: QPDF#\n",
      "\n",
      "Si deseas hacer tu PDF estandar al haber sido generado con cualquier herramienta,\n",
      "o deseas cambiar su versi\u00f3n, o poner un password, entre otras operaciones te \n",
      "recomendamos leer la documentaci\u00f3n de QPDF.\n",
      "\n",
      "[URL en Internet](http://textract.readthedocs.org/en/latest/python_package.html),\n",
      "y [HTML original en un archivo local](./htmls/2.1/QPDF_Manual/QPDF Manual.html)\n",
      "\n",
      "Volver al [*\u00cdndice*](#indice)."
     ]
    },
    {
     "cell_type": "markdown",
     "metadata": {},
     "source": [
      "<a id='Ejercicios'></a>\n",
      "</br>\n",
      "#Ejercicios#\n",
      "\n",
      "* Dise\u00f1e un parser que extraiga las notas de un pdf generado con el estandar 1.7.\n",
      "* Implemente un parser que extraiga las im\u00e1genes y las coloque en una carpeta.\n",
      "* Escriba un notebook que ejemplifique como insertar diferentes campos \u00fatiles en el \n",
      "etiquetado. Ejemplos: pies de p\u00e1ginas, encabezados, n\u00fameros de p\u00e1ginas y notas.\n",
      "* Extraiga de una colecci\u00f3n de libros los autores de cada uno y el a\u00f1o en que fue\n",
      "escrito.\n",
      "* Utilizando la herramienta pdftk extraiga los bookmarks del PDF.\n",
      "* Utilizando la herramienta ghostscript extraiga el texto de las p\u00e1ginas e inyecte\n",
      "notas y bookmarks.\n",
      "* Basado en los problemas abiertos de Papathaneous:\n",
      "   - Implemente un parser que utilice un mecanismo de OCR para hacer el Column Merging,\n",
      "y resolver as\u00ed problemas existentes en el PDF generados durante su construcci\u00f3n.\n",
      "   - Cree un script que extraiga las im\u00e1genes y las coloque en una carpeta con \n",
      "varios formatos conocidos ppm, gif, jpeg, png.\n",
      "   - Elabore un script que corrija los problemas en el reconocimiento de la \n",
      "capitalizaci\u00f3n en los t\u00edtulos y los ep\u00edgrafes.\n",
      "   - Escriba un parser que genere un .xml donde se etiqueten de forma diferenciada\n",
      "el t\u00edtulo del documento, autores y secciones del mismo con su fuente.\n",
      "   - Elabore un script que elimine los n\u00fameros de p\u00e1gina sin importar si est\u00e1n al inicio\n",
      "o al final de la p\u00e1gina.\n",
      "   - Implemente un script que extraiga en una tupla todos los footnotes,\n",
      "su p\u00e1gna correspondiente, y el texto que hace referencia a \u00e9l dentro del documento.\n",
      "* Experimente como extraer la informaci\u00f3n de la cabecera del PDF con la herramienta\n",
      "*popler-utils* y luego con PDFMiner. \u00bfCu\u00e1l es m\u00e1s r\u00e1pida?"
     ]
    },
    {
     "cell_type": "markdown",
     "metadata": {},
     "source": [
      "<a id='referencias'></a>\n",
      "##Referencias##\n",
      "\n",
      "<a id='Bird2009'></a>\n",
      "[1] *[Bird2009]* Steven Bird, Ewan Klain y Edward Loper,. \n",
      "Book **Natural Language Processing with Python**. 2009. \n",
      "p. 10 **ISBN**: 978-0-596-51649-9\n",
      "\n",
      "<a id='Wiki2016'></a>\n",
      "[2] *[Wiki2016]* Colectivo de autores. \n",
      "Enciclopedia Article **Portable Document Format**. 2016. \n",
      "[URL en Internet](https://en.wikipedia.org/wiki/Portable_Document_Format#Technical_overview),\n",
      "[URL local](./htmls/2.1/Portable_Document_Format_Wikipedia_the_free_encyclopedia/index.html)\n",
      "\n",
      "<a id='Arnold2014'></a>\n",
      "[3] *[Arnold2014]* Tom Arnold. \n",
      "Web Page **Manipulating PDFs with Python**. 2014. \n",
      "[URL en Internet](https://www.binpress.com/tutorial/manipulating-pdfs-with-python/167)\n",
      "[URL local](./htmls/2.1/Manipulating_PDFs_with_Python_Tutorial_Binpress/index.html)\n",
      "\n",
      "<a id='Lukan2012'></a>\n",
      "[4] *[Lukan2012]* Dejan Lukan. \n",
      "Web Page **PDF File Format: Basic Structure**. 2012.\n",
      "[URL en Internet](http://resources.infosecinstitute.com/category/exploit-development)\n",
      "[URL local](./htmls/2.1/PDF_File_Format_Basic_Structure_InfoSec_Resources/index.html)"
     ]
    },
    {
     "cell_type": "markdown",
     "metadata": {},
     "source": [
      "<a id='alphabetic_index'></a>\n",
      "##\u00cdndice Alfab\u00e9tico##\n",
      "\n",
      "<a id='token'></a>\n",
      "**Token**: se\u00f1al, indicio, muestra. Se usa generalmente para referirse a la unidad\n",
      "m\u00e1s peque\u00f1a de procesamiento: palabras, fonemas, n-grams, etc..\n",
      "\n",
      "\n",
      "Volver al [*\u00cdndice*](#indice)."
     ]
    }
   ],
   "metadata": {}
  }
 ]
}