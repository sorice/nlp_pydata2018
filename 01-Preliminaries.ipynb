{
 "metadata": {
  "name": "",
  "signature": "sha256:632c625947526d52255236e4499d119afb7abf645836c4c6c11c38c41ca921e2"
 },
 "nbformat": 3,
 "nbformat_minor": 0,
 "worksheets": [
  {
   "cells": [
    {
     "cell_type": "markdown",
     "metadata": {},
     "source": [
      "<small><i>This notebook was put together by [Abel Meneses-Abad](http://www.meneses-abad.com) for PyData Vancouver 2018. Source and license info is on [GitHub](https://github.com/sorice/nlp_pydata2018/).</i></small>"
     ]
    },
    {
     "cell_type": "heading",
     "level": 1,
     "metadata": {},
     "source": [
      "An Introduction to Natural Language Processing in Python"
     ]
    },
    {
     "cell_type": "heading",
     "level": 2,
     "metadata": {},
     "source": [
      "Goals of this Tutorial"
     ]
    },
    {
     "cell_type": "markdown",
     "metadata": {},
     "source": [
      "- **Introduce the basics of Natural Language Processing**, and some skills useful in practice.\n",
      "- **To make NLP with Python Language**, and teach you the rich open source toolset available."
     ]
    },
    {
     "cell_type": "heading",
     "level": 2,
     "metadata": {},
     "source": [
      "Schedule:"
     ]
    },
    {
     "cell_type": "markdown",
     "metadata": {},
     "source": [
      "**10:00 - 10:15** Preliminaries: Introduction\n",
      "\n",
      "**10:15 - 10:35** Preliminaries: Setup\n",
      "* Making sure your computer is set-up (run the las code cell in this notebook to check if you are ready)\n",
      "\n",
      "**10:35 - 11:15** Handling real text\n",
      "* Converting PDF to text\n",
      "* Converting other formats (.doc, etc) to txt.\n",
      "\n",
      "**11:15 - 12:00** Text normalization with Regular Expressions\n",
      "* Tokenization, and handling punctuation signs.\n",
      "* Spetial tokens or expressions. The case of collocations and multiwords.\n",
      "\n",
      "**13:00 - 14:00** Shallow NLP techniques\n",
      "* Filtering stopwords, Ngram extraction.\n",
      "* Lematization, Steaming. Statistical lang properties.\n",
      "\n",
      "*The tutorial repository contains additional material which we will not cover here. My hope is that you will find it useful to read-through on your own if you want to go deeper!*"
     ]
    },
    {
     "cell_type": "heading",
     "level": 2,
     "metadata": {},
     "source": [
      "Preliminaries"
     ]
    },
    {
     "cell_type": "markdown",
     "metadata": {},
     "source": [
      "This tutorial requires the following packages:\n",
      "\n",
      "- Python version 2.6-2.7 or 3.3-3.4\n",
      "- `numpy` version 1.5 or later: http://www.numpy.org/\n",
      "- `scipy` version 0.10 or later: http://www.scipy.org/\n",
      "- `matplotlib` version 1.3 or later: http://matplotlib.org/\n",
      "- `scikit-learn` version 0.14 or later: http://scikit-learn.org\n",
      "- `ipython` version 2.0 or later, with notebook support: http://ipython.org\n",
      "- `seaborn`: version 0.5 or later, used mainly for plot styling\n",
      "\n",
      "The easiest way to get these is to use the [conda](http://store.continuum.io/) environment manager.\n",
      "I suggest downloading and installing [miniconda](http://conda.pydata.org/miniconda.html).\n",
      "\n",
      "The following command will install all required packages:\n",
      "```\n",
      "$ conda install numpy scipy matplotlib scikit-learn ipython-notebook\n",
      "```\n",
      "\n",
      "Alternatively, you can download and install the (very large) Anaconda software distribution, found at https://store.continuum.io/."
     ]
    },
    {
     "cell_type": "markdown",
     "metadata": {},
     "source": [
      "### Checking your installation\n",
      "\n",
      "You can run the following code to check the versions of the packages on your system:\n",
      "\n",
      "(in IPython notebook, press `shift` and `return` together to execute the contents of a cell)"
     ]
    },
    {
     "cell_type": "code",
     "collapsed": false,
     "input": [
      "from __future__ import print_function\n",
      "\n",
      "import IPython\n",
      "print('IPython:', IPython.__version__)\n",
      "\n",
      "import numpy\n",
      "print('numpy:', numpy.__version__)\n",
      "\n",
      "import scipy\n",
      "print('scipy:', scipy.__version__)\n",
      "\n",
      "import matplotlib\n",
      "print('matplotlib:', matplotlib.__version__)\n",
      "\n",
      "import sklearn\n",
      "print('scikit-learn:', sklearn.__version__)\n",
      "\n",
      "import seaborn\n",
      "print('seaborn', seaborn.__version__)"
     ],
     "language": "python",
     "metadata": {},
     "outputs": [
      {
       "output_type": "stream",
       "stream": "stdout",
       "text": [
        "IPython: 2.4.1\n",
        "numpy:"
       ]
      },
      {
       "output_type": "stream",
       "stream": "stdout",
       "text": [
        " 1.9.2\n",
        "scipy: 0.15.1\n",
        "matplotlib: 1.4.3\n",
        "scikit-learn:"
       ]
      },
      {
       "output_type": "stream",
       "stream": "stdout",
       "text": [
        " 0.15.2\n",
        "seaborn"
       ]
      },
      {
       "output_type": "stream",
       "stream": "stdout",
       "text": [
        " 0.5.1\n"
       ]
      }
     ],
     "prompt_number": 1
    },
    {
     "cell_type": "heading",
     "level": 2,
     "metadata": {},
     "source": [
      "Useful Resources"
     ]
    },
    {
     "cell_type": "markdown",
     "metadata": {},
     "source": [
      "- **scikit-learn:** http://scikit-learn.org (see especially the narrative documentation)\n",
      "- **matplotlib:** http://matplotlib.org (see especially the gallery section)\n",
      "- **IPython:** http://ipython.org (also check out http://nbviewer.ipython.org)"
     ]
    }
   ],
   "metadata": {}
  }
 ]
}