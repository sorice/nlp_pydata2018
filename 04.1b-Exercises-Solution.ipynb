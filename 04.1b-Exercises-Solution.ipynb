{
 "metadata": {
  "name": "",
  "signature": "sha256:6ca33b5e525f6a2d4d24edc35a02012cd143669777ec786fba3a6bcaf63a34ab"
 },
 "nbformat": 3,
 "nbformat_minor": 0,
 "worksheets": [
  {
   "cells": [
    {
     "cell_type": "markdown",
     "metadata": {},
     "source": [
      "## Exercise 1: S-ngrams"
     ]
    },
    {
     "cell_type": "code",
     "collapsed": false,
     "input": [
      "from collections import defaultdict\n",
      "A = [1,[2,3,[4,[5,6,[7,[13]]]],[8,[9,10,11,12]]]]\n",
      "\n",
      "dicc = defaultdict(int)\n",
      "nivel = 1\n",
      "head_nodes=defaultdict(dict)\n",
      "\n",
      "def get_dict_from_list(dicc,lista, nivel,head_nodes):\n",
      "    pendents = []\n",
      "    print('nivel---------------:',nivel)\n",
      "    \n",
      "    if nivel == 1: \n",
      "        head_nodes[1][1] = lista[0]                   #Head node of level 1 or ROOT node\n",
      "        dicc[lista[0]] +=1\n",
      "        for element in lista[1]:\n",
      "            if isinstance(element,int):\n",
      "                dicc[element]+=1\n",
      "            if isinstance(element, list):\n",
      "                pendents.append(element)\n",
      "                for i in range(len(element)-1):\n",
      "                    subelement = element[i]\n",
      "                    try:\n",
      "                        if isinstance(element[i+1],list):\n",
      "                            head_nodes[nivel+1][subelement] = lista[0] #head_nodes[level][child] = parent\n",
      "                    except:\n",
      "                        pass\n",
      "    \n",
      "    if nivel > 1:\n",
      "        for subtree in lista:\n",
      "            print('subtree',subtree)\n",
      "            \n",
      "            #Add Tree len to level head nodes\n",
      "            if subtree[0] in head_nodes[nivel].keys(): # If element[0] is child of a prev node then add length of that subtree \n",
      "                child = subtree[0]                     # to head-node leaves\n",
      "                for level in range(nivel,1,-1):           # from level 1 to actual level\n",
      "                    parent = head_nodes[level][child]\n",
      "                    dicc[parent] += len(subtree[1])\n",
      "                    child = parent\n",
      "            \n",
      "            # Check if there is not a new subtree inside the actual subtree\n",
      "            for i in range(len(subtree[1])):\n",
      "                subelement = subtree[1][i]\n",
      "                try:\n",
      "                    if isinstance(subtree[1][i], list):\n",
      "                        head_nodes[nivel+1][subtree[1][i][0]] = subtree[0] #next level root nodes with childs (list elements)\n",
      "                        pendents.append(subtree[1][i]) # Add to pendents the element list for future sub-level processing\n",
      "                except:\n",
      "                    pass\n",
      "            \n",
      "            dicc[subtree[0]] = len(subtree[1])\n",
      "            for element in subtree[1]:\n",
      "                if isinstance(element, int):\n",
      "                    dicc[element] += 1\n",
      "\n",
      "    print(head_nodes)\n",
      "    print('dicc:',dicc)\n",
      "    print('pendents',pendents)        \n",
      "    nivel += 1\n",
      "\n",
      "    if len(pendents) > 0 and count < 10:\n",
      "        get_dict_from_list(dicc,pendents, nivel, head_nodes)\n",
      "\n",
      "    return dicc\n",
      "\n",
      "D = get_dict_from_list(dicc,A, nivel,head_nodes)\n",
      "print(D)"
     ],
     "language": "python",
     "metadata": {},
     "outputs": [
      {
       "output_type": "stream",
       "stream": "stdout",
       "text": [
        "nivel---------------: 1\n",
        "defaultdict(<class 'dict'>, {1: {1: 1}, 2: {8: 1, 4: 1}})\n",
        "dicc: defaultdict(<class 'int'>, {1: 1, 2: 1, 3: 1})\n",
        "pendents [[4, [5, 6, [7, [13]]]], [8, [9, 10, 11, 12]]]\n",
        "nivel---------------: 2\n",
        "subtree [4, [5, 6, [7, [13]]]]\n",
        "subtree [8, [9, 10, 11, 12]]\n",
        "defaultdict(<class 'dict'>, {1: {1: 1}, 2: {8: 1, 4: 1}, 3: {7: 4}})\n",
        "dicc: defaultdict(<class 'int'>, {1: 8, 2: 1, 3: 1, 4: 3, 5: 1, 6: 1, 8: 4, 9: 1, 10: 1, 11: 1, 12: 1})\n",
        "pendents [[7, [13]]]\n",
        "nivel---------------: 3\n",
        "subtree [7, [13]]\n",
        "defaultdict(<class 'dict'>, {1: {1: 1}, 2: {8: 1, 4: 1}, 3: {7: 4}})\n",
        "dicc: defaultdict(<class 'int'>, {1: 9, 2: 1, 3: 1, 4: 4, 5: 1, 6: 1, 7: 1, 8: 4, 9: 1, 10: 1, 11: 1, 12: 1, 13: 1})\n",
        "pendents []\n",
        "defaultdict(<class 'int'>, {1: 9, 2: 1, 3: 1, 4: 4, 5: 1, 6: 1, 7: 1, 8: 4, 9: 1, 10: 1, 11: 1, 12: 1, 13: 1})\n"
       ]
      }
     ],
     "prompt_number": 7
    }
   ],
   "metadata": {}
  }
 ]
}