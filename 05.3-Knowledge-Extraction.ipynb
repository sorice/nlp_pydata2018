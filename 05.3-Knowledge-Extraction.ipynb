{
 "metadata": {
  "name": "",
  "signature": "sha256:e4d2c933192c086d347467b984dc08cf6eb2749d1357501dcaa590193586943c"
 },
 "nbformat": 3,
 "nbformat_minor": 0,
 "worksheets": [
  {
   "cells": [
    {
     "cell_type": "markdown",
     "metadata": {},
     "source": [
      "<small><i>This notebook was put together by [Abel Meneses-Abad](http://www.meneses-abad.com) for PyData Vancouver 2018. Source and license info is on [GitHub](https://github.com/sorice/nlp_pydata2018/).</i></small>"
     ]
    }
   ],
   "metadata": {}
  }
 ]
}