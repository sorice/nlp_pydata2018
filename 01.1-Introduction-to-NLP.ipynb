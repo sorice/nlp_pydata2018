{
 "metadata": {
  "name": "",
  "signature": "sha256:9413e74790829a3a5ed3f88fddea14df1512ffb912506de7f8126ca9587586e3"
 },
 "nbformat": 3,
 "nbformat_minor": 0,
 "worksheets": [
  {
   "cells": [
    {
     "cell_type": "markdown",
     "metadata": {},
     "source": [
      "<small><i>This notebook was put together by [Abel Meneses-Abad](http://www.meneses-abad.com) for PyData Vancouver 2018. Source and license info is on [GitHub](https://github.com/sorice/nlp_pydata2018/).</i></small>"
     ]
    },
    {
     "cell_type": "markdown",
     "metadata": {},
     "source": [
      "# Introduction to NLP\n",
      "\n",
      "* Concept\n",
      "* Knowledge you have to learn or study to applied\n",
      "* Main problems of NLP\n",
      "* Principal applications of NLP\n",
      "* APIs and Tools\n",
      "* Data\n",
      "* Conclusions"
     ]
    }
   ],
   "metadata": {}
  }
 ]
}